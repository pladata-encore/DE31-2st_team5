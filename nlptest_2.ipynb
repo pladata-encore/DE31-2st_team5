{
 "cells": [
  {
   "cell_type": "code",
   "execution_count": 1,
   "id": "44653f8e-61d4-4193-ba6f-48eafd143b27",
   "metadata": {},
   "outputs": [],
   "source": [
    "import nltk\n",
    "#nltk.download('punkt')\n",
    "from nltk.tokenize import word_tokenize\n",
    "from num2words import num2words\n",
    "import re\n",
    "#nltk.download('stopwords')\n",
    "from nltk.stem import WordNetLemmatizer\n",
    "#nltk.download('wordnet')"
   ]
  },
  {
   "cell_type": "code",
   "execution_count": 14,
   "id": "82af7570-95b4-483d-a656-1bb9c244fccf",
   "metadata": {},
   "outputs": [],
   "source": [
    "import pandas as pd\n",
    "from math import log"
   ]
  },
  {
   "cell_type": "code",
   "execution_count": 130,
   "id": "046bb504-ebf2-4ff5-8bba-d82dc75b0595",
   "metadata": {},
   "outputs": [],
   "source": [
    "from scipy.cluster.hierarchy import linkage, dendrogram\n",
    "import matplotlib.pyplot as plt"
   ]
  },
  {
   "cell_type": "markdown",
   "id": "fcf167a9-b98c-40e9-964a-d4642fd4d67b",
   "metadata": {},
   "source": [
    "### 데이터 전처리"
   ]
  },
  {
   "cell_type": "code",
   "execution_count": 94,
   "id": "232ba65f-936d-4ec8-87e1-f56f974ee961",
   "metadata": {},
   "outputs": [],
   "source": [
    "text = \"\"\"At least seven people have been killed and more than a dozen injured in a Russian missile attack on Kharkiv, north-eastern Ukraine, according to the regional head.\n",
    "A further two people remain missing after the attack, which saw Russian forces strike Ukraine's second-largest city at least 15 times, Oleg Sinegubov said.\n",
    "He advised people in the city to remain in shelters.\n",
    "Ukraine's state railway company said several of its facilities had been damaged in the attack and a number of its employees had been injured.\n",
    "Earlier this month, Russian forces began a renewed offensive in the region in an attempt to break through a weakened Ukrainian front line.\n",
    "On Wednesday, Mr Sinegubov said fighting was continuing near the towns of Pletenivka and Vovchansk, but that Ukraine's forces were in control.\n",
    "\"This weakness is not ours, but the world's, which has not dared to deal with terrorists in the way they deserve for three years,\" he said in a post on X.\n",
    "Ukrainian President Volodymyr Zelensky said the attacks on Kharkiv showed that Russia was taking advantage of Ukraine's lack of air defences.\n",
    "Supplies of US-made surface-to-air missile systems were delayed by wrangling in Congress over a multi-billion dollar aid package for Ukraine which was only passed last month.\n",
    "Mr Zelensky has repeatedly called for more air defence missiles and the supply of modern fighter jets from his allies.\n",
    "Russia's glide bombs devastating Ukraine's cities on the cheap\n",
    "Thousands flee Russian offensive in Kharkiv region\n",
    "Ukraine's defence lines stretched as Russian troops advance\n",
    "Fighting in the region has displaced around 14,000 people, according to the World Health Organization (WHO).\n",
    "The estimated 189,000 people who remain near the border with Russia face “significant risks due to ongoing fighting”, WHO’s Jarno Habicht said.\n",
    "Russia's President Vladimir Putin claims it is not his intention to capture Kharkiv, but that the aim was to create a \"security zone\" for Russia's border region.\n",
    "Ukraine has been launching its own attacks into Russian territory.\n",
    "Belgorod, located just 12km (7 miles) from the border with Ukraine, has been targeted a number of times, including earlier this week when a woman was killed and three others were injured as a result of a drone strike on a moving car.\"\"\"\n",
    "text = str(text)"
   ]
  },
  {
   "cell_type": "code",
   "execution_count": 95,
   "id": "80ce999e-3716-4169-b548-809ec7406f32",
   "metadata": {},
   "outputs": [],
   "source": [
    "text2 = \"\"\"The standard 30-year fixed-rate mortgage averaged 6.94% in the week ending May 23, down from last week’s average of 7.02%, according to Freddie Mac data released Thursday. That’s the lowest level since early April and below the key 7% threshold.\n",
    "After moving sideways throughout March, mortgage rates began to climb in late April as economic data showed that inflation’s cooldown stalled earlier in the year. Mortgage rates track the benchmark 10-year US Treasury yield, which moves in anticipation of the Federal Reserve’s decisions on interest rates. Stubbornly high inflation this year has dashed hopes that the Fed could cut interest rates in the spring or in the summer. But there’s finally been some good news on that front: The Consumer Price Index for April, released last week, showed that inflation didn’t pick up. Bond yields have mostly retreated this month.\n",
    "\n",
    "“Spring homebuyers received an unexpected windfall this week, as mortgage rates fell below the seven percent threshold for the first time in over a month,” Sam Khater, Freddie Mac’s chief economist, said in a release.\n",
    "\n",
    "Some Fed officials said earlier this week that they likely won’t raise interest rates again and a few have said they expect to cut rates this year. That bodes well for lower mortgage rates.\n",
    "\n",
    "But for now, the housing market’s recovery is stagnant. Sales of previously owned homes, which make up the vast majority of the housing market, fell in April for the second month in a row, the National Association of Realtors reported Wednesday. That’s a stark contrast from earlier in the year when sales soared. \"\"\"\n",
    "text2 = str(text2)"
   ]
  },
  {
   "cell_type": "code",
   "execution_count": 96,
   "id": "828aa64b-97da-4796-ae1a-8c0651f6d1ee",
   "metadata": {},
   "outputs": [],
   "source": [
    "text3= \"\"\"Saints' 11-year spell in the top flight came to an end after a wretched campaign last time out but, despite finishing one place and three points behind Leeds in fourth, it is they who join Leicester and Ipswich in going up.\n",
    "\n",
    "Adam Armstrong scored the decisive goal with a clinical finish after being put clear by Will Smallbone.\n",
    "\n",
    "Leeds substitute Dan James clattered a bouncing ball against the crossbar late on as they pushed for an equaliser but Russell Martin's men saw out almost 12 minutes of time added on.\n",
    "\n",
    "Defeat for Leeds consigned them to another season in the Championship and meant they have now lost their past three finals at Wembley without scoring and been unsuccessful in all six of their play-off campaigns.\n",
    "\n",
    "Saints' promotion means that all three play-off finals this year were won by the team who had finished lower in the league table, with the team who had finished higher failing to score in all three.\"\"\"\n",
    "text3 = str(text3)"
   ]
  },
  {
   "cell_type": "code",
   "execution_count": 146,
   "id": "928317de-b077-4559-b637-cca34386fd47",
   "metadata": {},
   "outputs": [],
   "source": [
    "text4=\"\"\"Scientists conducting research in the Amazon rainforest have made an exciting discovery - a new species of frog. The frog, named \"Amazonian Emerald Frog\" due to its striking green coloration, was found deep within the dense foliage of the rainforest.\n",
    "\n",
    "The discovery was made during a biodiversity survey conducted by a team of biologists from several international research institutions. They were studying the diverse ecosystem of the Amazon when they stumbled upon this previously unknown amphibian species.\n",
    "\n",
    "The Amazonian Emerald Frog exhibits unique characteristics that distinguish it from other frog species in the region. Its vibrant green skin, speckled with tiny golden spots, makes it stand out against the lush green backdrop of the rainforest. Additionally, its distinctive call, which resembles the sound of a tinkling bell, was instrumental in identifying and locating the species.\"\"\""
   ]
  },
  {
   "cell_type": "code",
   "execution_count": 147,
   "id": "a54e00a4-1625-4292-b51e-ef9ad0e015e6",
   "metadata": {},
   "outputs": [
    {
     "data": {
      "text/plain": [
       "\"least seven people killed dozen injured russian missile attack kharkiv north-eastern ukraine according regional head . two people remain missing attack saw russian force strike ukraine 's second-largest city least fifteen time oleg sinegubov said . advised people city remain shelter . ukraine 's state railway company said several facility damaged attack number employee injured . earlier month russian force began renewed offensive region attempt break weakened ukrainian front line . wednesday mr sinegubov said fighting continuing near town pletenivka vovchansk ukraine 's force control . `` weakness world 's dared deal terrorist way deserve three year `` said post x. ukrainian president volodymyr zelensky said attack kharkiv showed russia taking advantage ukraine 's lack air defence . supply us-made surface-to-air missile system delayed wrangling congress multi-billion dollar aid package ukraine passed last month . mr zelensky repeatedly called air defence missile supply modern fighter jet ally . russia 's glide bomb devastating ukraine 's city cheap thousand flee russian offensive kharkiv region ukraine 's defence line stretched russian troop advance fighting region displaced around fourteen thousand people according world health organization ( ) . estimated one hundred eighty-nine thousand people remain near border russia face “ significant risk due ongoing fighting ” ’ jarno habicht said . russia 's president vladimir putin claim intention capture kharkiv aim create `` security zone `` russia 's border region . ukraine launching attack russian territory . belgorod located 12km ( seven mile ) border ukraine targeted number time including earlier week woman killed three others injured result drone strike moving car .\""
      ]
     },
     "execution_count": 147,
     "metadata": {},
     "output_type": "execute_result"
    }
   ],
   "source": [
    "tokens = word_tokenize(text.lower())\n",
    "tokens =  [i.replace(\",\", \"\") for i in tokens]\n",
    "adj_text = \" \".join([num2words(i) if i.isdigit() else i for i in tokens])\n",
    "tokens = word_tokenize(adj_text)\n",
    "adj_text = re.sub(r'^[^a-z]', ' ', adj_text)\n",
    "tokens = word_tokenize(adj_text)\n",
    "stop_words = set(nltk.corpus.stopwords.words(\"english\"))\n",
    "tokensWSW = [word for word in tokens if word not in stop_words]\n",
    "wordnet_lemmatizer = WordNetLemmatizer()\n",
    "lemmatized_list = []\n",
    "for word in tokensWSW:\n",
    "    lemmatized_list.append(wordnet_lemmatizer.lemmatize(word))\n",
    "clean_text = \" \".join(lemmatized_list)\n",
    "clean_text"
   ]
  },
  {
   "cell_type": "code",
   "execution_count": 148,
   "id": "df15128c-4431-45c5-abb3-48a9c4241006",
   "metadata": {},
   "outputs": [],
   "source": [
    "def preprocess_text(text):\n",
    "    # 소문자로 변환 후 토큰화\n",
    "    tokens = word_tokenize(text.lower())\n",
    "    \n",
    "    # 쉼표 제거\n",
    "    tokens = [i.replace(\",\", \"\") for i in tokens]\n",
    "    \n",
    "    # 숫자를 영어 단어로 변환\n",
    "    adj_text = \" \".join([num2words(i) if i.isdigit() else i for i in tokens])\n",
    "    \n",
    "    # 알파벳이 아닌 문자 제거\n",
    "    adj_text = re.sub(r'^[^a-z]', ' ', adj_text)\n",
    "    \n",
    "    # 다시 토큰화\n",
    "    tokens = word_tokenize(adj_text)\n",
    "    \n",
    "    # 불용어 제거\n",
    "    stop_words = set(nltk.corpus.stopwords.words(\"english\"))\n",
    "    tokensWSW = [word for word in tokens if word not in stop_words]\n",
    "    \n",
    "    # 표제어 추출\n",
    "    wordnet_lemmatizer = WordNetLemmatizer()\n",
    "    lemmatized_list = [wordnet_lemmatizer.lemmatize(word) for word in tokensWSW]\n",
    "    \n",
    "    # 정제된 텍스트 반환\n",
    "    return \" \".join(lemmatized_list)"
   ]
  },
  {
   "cell_type": "code",
   "execution_count": 151,
   "id": "a92355db-566a-4e8d-aedf-a74f62c5ae67",
   "metadata": {},
   "outputs": [],
   "source": [
    "clean_text2 = preprocess_text(text2)\n",
    "clean_text3 = preprocess_text(text3)\n",
    "clean_text4 = preprocess_text(text4)"
   ]
  },
  {
   "cell_type": "code",
   "execution_count": 160,
   "id": "5b377ece-d752-410d-bebc-e1a8f92ca034",
   "metadata": {
    "scrolled": true
   },
   "outputs": [
    {
     "data": {
      "text/plain": [
       "[\"least seven people killed dozen injured russian missile attack kharkiv north-eastern ukraine according regional head . two people remain missing attack saw russian force strike ukraine 's second-largest city least fifteen time oleg sinegubov said . advised people city remain shelter . ukraine 's state railway company said several facility damaged attack number employee injured . earlier month russian force began renewed offensive region attempt break weakened ukrainian front line . wednesday mr sinegubov said fighting continuing near town pletenivka vovchansk ukraine 's force control . `` weakness world 's dared deal terrorist way deserve three year `` said post x. ukrainian president volodymyr zelensky said attack kharkiv showed russia taking advantage ukraine 's lack air defence . supply us-made surface-to-air missile system delayed wrangling congress multi-billion dollar aid package ukraine passed last month . mr zelensky repeatedly called air defence missile supply modern fighter jet ally . russia 's glide bomb devastating ukraine 's city cheap thousand flee russian offensive kharkiv region ukraine 's defence line stretched russian troop advance fighting region displaced around fourteen thousand people according world health organization ( ) . estimated one hundred eighty-nine thousand people remain near border russia face “ significant risk due ongoing fighting ” ’ jarno habicht said . russia 's president vladimir putin claim intention capture kharkiv aim create `` security zone `` russia 's border region . ukraine launching attack russian territory . belgorod located 12km ( seven mile ) border ukraine targeted number time including earlier week woman killed three others injured result drone strike moving car .\",\n",
       " 'standard 30-year fixed-rate mortgage averaged 6.94 % week ending may twenty-three last week ’ average 7.02 % according freddie mac data released thursday . ’ lowest level since early april key seven % threshold . moving sideways throughout march mortgage rate began climb late april economic data showed inflation ’ cooldown stalled earlier year . mortgage rate track benchmark 10-year u treasury yield move anticipation federal reserve ’ decision interest rate . stubbornly high inflation year dashed hope fed could cut interest rate spring summer . ’ finally good news front : consumer price index april released last week showed inflation ’ pick . bond yield mostly retreated month . “ spring homebuyers received unexpected windfall week mortgage rate fell seven percent threshold first time month ” sam khater freddie mac ’ chief economist said release . fed official said earlier week likely ’ raise interest rate said expect cut rate year . bodes well lower mortgage rate . housing market ’ recovery stagnant . sale previously owned home make vast majority housing market fell april second month row national association realtor reported wednesday . ’ stark contrast earlier year sale soared .',\n",
       " \"saint ' 11-year spell top flight came end wretched campaign last time despite finishing one place three point behind leeds fourth join leicester ipswich going . adam armstrong scored decisive goal clinical finish put clear smallbone . leeds substitute dan james clattered bouncing ball crossbar late pushed equaliser russell martin 's men saw almost twelve minute time added . defeat leeds consigned another season championship meant lost past three final wembley without scoring unsuccessful six play-off campaign . saint ' promotion mean three play-off final year team finished lower league table team finished higher failing score three .\",\n",
       " 'scientist conducting research amazon rainforest made exciting discovery - new specie frog . frog named `` amazonian emerald frog `` due striking green coloration found deep within dense foliage rainforest . discovery made biodiversity survey conducted team biologist several international research institution . studying diverse ecosystem amazon stumbled upon previously unknown amphibian specie . amazonian emerald frog exhibit unique characteristic distinguish frog specie region . vibrant green skin speckled tiny golden spot make stand lush green backdrop rainforest . additionally distinctive call resembles sound tinkling bell instrumental identifying locating specie .']"
      ]
     },
     "execution_count": 160,
     "metadata": {},
     "output_type": "execute_result"
    }
   ],
   "source": [
    "corpus = [] #corpus 텍스트 데이터를 모아놓은 집합\n",
    "corpus.append(clean_text)\n",
    "corpus.append(clean_text2)\n",
    "corpus.append(clean_text3)\n",
    "corpus.append(clean_text4)\n",
    "\n",
    "corpus"
   ]
  },
  {
   "cell_type": "markdown",
   "id": "38924b9e-31ed-4824-8c4f-202eaf448a26",
   "metadata": {},
   "source": [
    "### tfdif "
   ]
  },
  {
   "cell_type": "code",
   "execution_count": 161,
   "id": "b471edd1-4f41-4117-9b7c-7a0ac863151c",
   "metadata": {},
   "outputs": [],
   "source": [
    "vocab = list(set(\" \".join(corpus).split()))\n",
    "vocab.sort()"
   ]
  },
  {
   "cell_type": "code",
   "execution_count": 48,
   "id": "4d99641a-7d94-46f7-9495-18ceac9c6c9c",
   "metadata": {},
   "outputs": [],
   "source": [
    "N = len(corpus)"
   ]
  },
  {
   "cell_type": "code",
   "execution_count": 57,
   "id": "1d881a89-e349-4abf-a3d5-3c4e45494db5",
   "metadata": {},
   "outputs": [],
   "source": [
    "#특정 문서 d에서의 특정 단어 t의 등장 횟수.\n",
    "def tf(t, d):\n",
    "    return d.count(t)\n",
    "#df(t)특정 단어 t가 등장한 문서의 수.df(t)에 반비례하는 수.\n",
    "def idf(t):\n",
    "    df = 0\n",
    "    for doc in corpus:\n",
    "        df += t in doc.split()\n",
    "    return log(N / (df + 1))\n",
    "    \n",
    "#TF와 IDF를 곱한 값\n",
    "def tfidf(t, d):\n",
    "    df = 0\n",
    "    for doc in corpus:\n",
    "        df += t in doc.split()\n",
    "    return d.split().count(t) * log(N / (df + 1))"
   ]
  },
  {
   "cell_type": "code",
   "execution_count": null,
   "id": "67a2883e-2654-4f31-a145-5fbea81148d8",
   "metadata": {},
   "outputs": [],
   "source": []
  },
  {
   "cell_type": "code",
   "execution_count": 58,
   "id": "f5089ae1-7554-4405-a007-d458636ecbf9",
   "metadata": {},
   "outputs": [
    {
     "data": {
      "text/html": [
       "<div>\n",
       "<style scoped>\n",
       "    .dataframe tbody tr th:only-of-type {\n",
       "        vertical-align: middle;\n",
       "    }\n",
       "\n",
       "    .dataframe tbody tr th {\n",
       "        vertical-align: top;\n",
       "    }\n",
       "\n",
       "    .dataframe thead th {\n",
       "        text-align: right;\n",
       "    }\n",
       "</style>\n",
       "<table border=\"1\" class=\"dataframe\">\n",
       "  <thead>\n",
       "    <tr style=\"text-align: right;\">\n",
       "      <th></th>\n",
       "      <th>%</th>\n",
       "      <th>'s</th>\n",
       "      <th>(</th>\n",
       "      <th>)</th>\n",
       "      <th>.</th>\n",
       "      <th>10-year</th>\n",
       "      <th>12km</th>\n",
       "      <th>30-year</th>\n",
       "      <th>6.94</th>\n",
       "      <th>7.02</th>\n",
       "      <th>...</th>\n",
       "      <th>world</th>\n",
       "      <th>wrangling</th>\n",
       "      <th>x.</th>\n",
       "      <th>year</th>\n",
       "      <th>yield</th>\n",
       "      <th>zelensky</th>\n",
       "      <th>zone</th>\n",
       "      <th>’</th>\n",
       "      <th>“</th>\n",
       "      <th>”</th>\n",
       "    </tr>\n",
       "  </thead>\n",
       "  <tbody>\n",
       "    <tr>\n",
       "      <th>0</th>\n",
       "      <td>0</td>\n",
       "      <td>10</td>\n",
       "      <td>2</td>\n",
       "      <td>2</td>\n",
       "      <td>15</td>\n",
       "      <td>0</td>\n",
       "      <td>1</td>\n",
       "      <td>0</td>\n",
       "      <td>0</td>\n",
       "      <td>0</td>\n",
       "      <td>...</td>\n",
       "      <td>2</td>\n",
       "      <td>1</td>\n",
       "      <td>1</td>\n",
       "      <td>1</td>\n",
       "      <td>0</td>\n",
       "      <td>2</td>\n",
       "      <td>1</td>\n",
       "      <td>1</td>\n",
       "      <td>1</td>\n",
       "      <td>1</td>\n",
       "    </tr>\n",
       "    <tr>\n",
       "      <th>1</th>\n",
       "      <td>3</td>\n",
       "      <td>0</td>\n",
       "      <td>0</td>\n",
       "      <td>0</td>\n",
       "      <td>15</td>\n",
       "      <td>1</td>\n",
       "      <td>0</td>\n",
       "      <td>1</td>\n",
       "      <td>1</td>\n",
       "      <td>1</td>\n",
       "      <td>...</td>\n",
       "      <td>0</td>\n",
       "      <td>0</td>\n",
       "      <td>0</td>\n",
       "      <td>6</td>\n",
       "      <td>2</td>\n",
       "      <td>0</td>\n",
       "      <td>0</td>\n",
       "      <td>10</td>\n",
       "      <td>1</td>\n",
       "      <td>1</td>\n",
       "    </tr>\n",
       "  </tbody>\n",
       "</table>\n",
       "<p>2 rows × 262 columns</p>\n",
       "</div>"
      ],
      "text/plain": [
       "   %  's  (  )   .  10-year  12km  30-year  6.94  7.02  ...  world  wrangling  \\\n",
       "0  0  10  2  2  15        0     1        0     0     0  ...      2          1   \n",
       "1  3   0  0  0  15        1     0        1     1     1  ...      0          0   \n",
       "\n",
       "   x.  year  yield  zelensky  zone   ’  “  ”  \n",
       "0   1     1      0         2     1   1  1  1  \n",
       "1   0     6      2         0     0  10  1  1  \n",
       "\n",
       "[2 rows x 262 columns]"
      ]
     },
     "execution_count": 58,
     "metadata": {},
     "output_type": "execute_result"
    }
   ],
   "source": [
    "result = []\n",
    "for i in range(N):\n",
    "    result.append([])\n",
    "    d = corpus[i]\n",
    "    for j in range(len(vocab)):\n",
    "        t = vocab[j]\n",
    "        result[-1].append(tf(t, d))\n",
    "\n",
    "tf_df = pd.DataFrame(result, columns=vocab)\n",
    "tf_df"
   ]
  },
  {
   "cell_type": "code",
   "execution_count": 59,
   "id": "049d2a60-b6fd-4c9f-b87a-dc7dc80d3806",
   "metadata": {},
   "outputs": [
    {
     "data": {
      "text/html": [
       "<div>\n",
       "<style scoped>\n",
       "    .dataframe tbody tr th:only-of-type {\n",
       "        vertical-align: middle;\n",
       "    }\n",
       "\n",
       "    .dataframe tbody tr th {\n",
       "        vertical-align: top;\n",
       "    }\n",
       "\n",
       "    .dataframe thead th {\n",
       "        text-align: right;\n",
       "    }\n",
       "</style>\n",
       "<table border=\"1\" class=\"dataframe\">\n",
       "  <thead>\n",
       "    <tr style=\"text-align: right;\">\n",
       "      <th></th>\n",
       "      <th>IDF</th>\n",
       "    </tr>\n",
       "  </thead>\n",
       "  <tbody>\n",
       "    <tr>\n",
       "      <th>%</th>\n",
       "      <td>0.000000</td>\n",
       "    </tr>\n",
       "    <tr>\n",
       "      <th>'s</th>\n",
       "      <td>0.000000</td>\n",
       "    </tr>\n",
       "    <tr>\n",
       "      <th>(</th>\n",
       "      <td>0.000000</td>\n",
       "    </tr>\n",
       "    <tr>\n",
       "      <th>)</th>\n",
       "      <td>0.000000</td>\n",
       "    </tr>\n",
       "    <tr>\n",
       "      <th>.</th>\n",
       "      <td>-0.405465</td>\n",
       "    </tr>\n",
       "    <tr>\n",
       "      <th>...</th>\n",
       "      <td>...</td>\n",
       "    </tr>\n",
       "    <tr>\n",
       "      <th>zelensky</th>\n",
       "      <td>0.000000</td>\n",
       "    </tr>\n",
       "    <tr>\n",
       "      <th>zone</th>\n",
       "      <td>0.000000</td>\n",
       "    </tr>\n",
       "    <tr>\n",
       "      <th>’</th>\n",
       "      <td>-0.405465</td>\n",
       "    </tr>\n",
       "    <tr>\n",
       "      <th>“</th>\n",
       "      <td>-0.405465</td>\n",
       "    </tr>\n",
       "    <tr>\n",
       "      <th>”</th>\n",
       "      <td>-0.405465</td>\n",
       "    </tr>\n",
       "  </tbody>\n",
       "</table>\n",
       "<p>262 rows × 1 columns</p>\n",
       "</div>"
      ],
      "text/plain": [
       "               IDF\n",
       "%         0.000000\n",
       "'s        0.000000\n",
       "(         0.000000\n",
       ")         0.000000\n",
       ".        -0.405465\n",
       "...            ...\n",
       "zelensky  0.000000\n",
       "zone      0.000000\n",
       "’        -0.405465\n",
       "“        -0.405465\n",
       "”        -0.405465\n",
       "\n",
       "[262 rows x 1 columns]"
      ]
     },
     "execution_count": 59,
     "metadata": {},
     "output_type": "execute_result"
    }
   ],
   "source": [
    "result = []\n",
    "for j in range(len(vocab)):\n",
    "    t = vocab[j]\n",
    "    result.append(idf(t))\n",
    "idf_df = pd.DataFrame(result, index=vocab, columns=[\"IDF\"])\n",
    "idf_df"
   ]
  },
  {
   "cell_type": "code",
   "execution_count": 62,
   "id": "fd158f56-af04-4d50-8b3d-a571420380eb",
   "metadata": {},
   "outputs": [
    {
     "data": {
      "text/html": [
       "<div>\n",
       "<style scoped>\n",
       "    .dataframe tbody tr th:only-of-type {\n",
       "        vertical-align: middle;\n",
       "    }\n",
       "\n",
       "    .dataframe tbody tr th {\n",
       "        vertical-align: top;\n",
       "    }\n",
       "\n",
       "    .dataframe thead th {\n",
       "        text-align: right;\n",
       "    }\n",
       "</style>\n",
       "<table border=\"1\" class=\"dataframe\">\n",
       "  <thead>\n",
       "    <tr style=\"text-align: right;\">\n",
       "      <th></th>\n",
       "      <th>%</th>\n",
       "      <th>'s</th>\n",
       "      <th>(</th>\n",
       "      <th>)</th>\n",
       "      <th>.</th>\n",
       "      <th>10-year</th>\n",
       "      <th>12km</th>\n",
       "      <th>30-year</th>\n",
       "      <th>6.94</th>\n",
       "      <th>7.02</th>\n",
       "      <th>...</th>\n",
       "      <th>world</th>\n",
       "      <th>wrangling</th>\n",
       "      <th>x.</th>\n",
       "      <th>year</th>\n",
       "      <th>yield</th>\n",
       "      <th>zelensky</th>\n",
       "      <th>zone</th>\n",
       "      <th>’</th>\n",
       "      <th>“</th>\n",
       "      <th>”</th>\n",
       "    </tr>\n",
       "  </thead>\n",
       "  <tbody>\n",
       "    <tr>\n",
       "      <th>0</th>\n",
       "      <td>0.0</td>\n",
       "      <td>0.0</td>\n",
       "      <td>0.0</td>\n",
       "      <td>0.0</td>\n",
       "      <td>-5.676512</td>\n",
       "      <td>0.0</td>\n",
       "      <td>0.0</td>\n",
       "      <td>0.0</td>\n",
       "      <td>0.0</td>\n",
       "      <td>0.0</td>\n",
       "      <td>...</td>\n",
       "      <td>0.0</td>\n",
       "      <td>0.0</td>\n",
       "      <td>0.0</td>\n",
       "      <td>-0.405465</td>\n",
       "      <td>0.0</td>\n",
       "      <td>0.0</td>\n",
       "      <td>0.0</td>\n",
       "      <td>-0.405465</td>\n",
       "      <td>-0.405465</td>\n",
       "      <td>-0.405465</td>\n",
       "    </tr>\n",
       "    <tr>\n",
       "      <th>1</th>\n",
       "      <td>0.0</td>\n",
       "      <td>0.0</td>\n",
       "      <td>0.0</td>\n",
       "      <td>0.0</td>\n",
       "      <td>-5.271046</td>\n",
       "      <td>0.0</td>\n",
       "      <td>0.0</td>\n",
       "      <td>0.0</td>\n",
       "      <td>0.0</td>\n",
       "      <td>0.0</td>\n",
       "      <td>...</td>\n",
       "      <td>0.0</td>\n",
       "      <td>0.0</td>\n",
       "      <td>0.0</td>\n",
       "      <td>-1.621860</td>\n",
       "      <td>0.0</td>\n",
       "      <td>0.0</td>\n",
       "      <td>0.0</td>\n",
       "      <td>-4.054651</td>\n",
       "      <td>-0.405465</td>\n",
       "      <td>-0.405465</td>\n",
       "    </tr>\n",
       "  </tbody>\n",
       "</table>\n",
       "<p>2 rows × 262 columns</p>\n",
       "</div>"
      ],
      "text/plain": [
       "     %   's    (    )         .  10-year  12km  30-year  6.94  7.02  ...  \\\n",
       "0  0.0  0.0  0.0  0.0 -5.676512      0.0   0.0      0.0   0.0   0.0  ...   \n",
       "1  0.0  0.0  0.0  0.0 -5.271046      0.0   0.0      0.0   0.0   0.0  ...   \n",
       "\n",
       "   world  wrangling   x.      year  yield  zelensky  zone         ’         “  \\\n",
       "0    0.0        0.0  0.0 -0.405465    0.0       0.0   0.0 -0.405465 -0.405465   \n",
       "1    0.0        0.0  0.0 -1.621860    0.0       0.0   0.0 -4.054651 -0.405465   \n",
       "\n",
       "          ”  \n",
       "0 -0.405465  \n",
       "1 -0.405465  \n",
       "\n",
       "[2 rows x 262 columns]"
      ]
     },
     "execution_count": 62,
     "metadata": {},
     "output_type": "execute_result"
    }
   ],
   "source": [
    "result = []\n",
    "for i in range(N):\n",
    "    result.append([])\n",
    "    d = corpus[i]\n",
    "    for j in range(len(vocab)):\n",
    "        t = vocab[j]\n",
    "        result[-1].append(tfidf(t, d))\n",
    "tfidf_df = pd.DataFrame(result, columns=vocab)\n",
    "tfidf_df\n"
   ]
  },
  {
   "cell_type": "markdown",
   "id": "a3ca2ec5-a32d-4929-98c5-5242ca23030c",
   "metadata": {},
   "source": [
    "### tfdif-sklearn"
   ]
  },
  {
   "cell_type": "markdown",
   "id": "62f0e8ce-9f7e-4fb1-983a-7a22c0c54d87",
   "metadata": {},
   "source": [
    "TF-IDF는 \"Term Frequency-Inverse Document Frequency\"의 약자로, 문서 내에서 단어의 중요성을 평가하는 데 널리 사용되는 통계적인 방법입니다. 이 방법은 정보 검색 및 텍스트 마이닝과 같은 자연어 처리 작업에서 특히 유용합니다.\r\n",
    "\r\n",
    "- **단어 빈도 (Term Frequency, TF)**: 문서 내에서 단어가 얼마나 자주 등장하는지를 나타냅니다. 일반적으로 문서 내에서 한 단어가 자주 등장할수록 해당 단어의 중요성이 높다고 간주됩니다. 하지만 모든 문서에서 자주 등장하는 단어는 문서를 식별하는 데 유용하지 않을 수 있습니다.\r\n",
    "\r\n",
    "- **역문서 빈도 (Inverse Document Frequency, IDF)**: 단어의 전체적인 등장 빈도를 고려합니다. 드물게 등장하는 단어가 문서를 식별하는 데 더 큰 중요성을 갖는다고 가정합니다. 이를 위해 역문서 빈도는 해당 단어가 전체 문서 집합에서 얼마나 자주 등장하는지의 역수를 계산합니다.\r\n",
    "\r\n",
    "TF-IDF는 이 두 가지 요소를 조합하여 단어의 상대적인 중요성을 결정합니다. 한 단어의 TF-IDF 점수는 해당 단어의 단어 빈도와 역문서 빈도의 곱으로 계산됩니다. 따라서 TF-IDF는 특정 문서 내에서 자주 등장하지만, 전체 문서 집합에서는 드물게 등장하는 단어에 높은 가중치를 부여합니다.\r\n",
    "부여합니다."
   ]
  },
  {
   "cell_type": "code",
   "execution_count": 162,
   "id": "dadee599-3f28-4905-b2e2-e4f27f4a2ec1",
   "metadata": {},
   "outputs": [
    {
     "data": {
      "text/plain": [
       "[\"least seven people killed dozen injured russian missile attack kharkiv north-eastern ukraine according regional head . two people remain missing attack saw russian force strike ukraine 's second-largest city least fifteen time oleg sinegubov said . advised people city remain shelter . ukraine 's state railway company said several facility damaged attack number employee injured . earlier month russian force began renewed offensive region attempt break weakened ukrainian front line . wednesday mr sinegubov said fighting continuing near town pletenivka vovchansk ukraine 's force control . `` weakness world 's dared deal terrorist way deserve three year `` said post x. ukrainian president volodymyr zelensky said attack kharkiv showed russia taking advantage ukraine 's lack air defence . supply us-made surface-to-air missile system delayed wrangling congress multi-billion dollar aid package ukraine passed last month . mr zelensky repeatedly called air defence missile supply modern fighter jet ally . russia 's glide bomb devastating ukraine 's city cheap thousand flee russian offensive kharkiv region ukraine 's defence line stretched russian troop advance fighting region displaced around fourteen thousand people according world health organization ( ) . estimated one hundred eighty-nine thousand people remain near border russia face “ significant risk due ongoing fighting ” ’ jarno habicht said . russia 's president vladimir putin claim intention capture kharkiv aim create `` security zone `` russia 's border region . ukraine launching attack russian territory . belgorod located 12km ( seven mile ) border ukraine targeted number time including earlier week woman killed three others injured result drone strike moving car .\",\n",
       " 'standard 30-year fixed-rate mortgage averaged 6.94 % week ending may twenty-three last week ’ average 7.02 % according freddie mac data released thursday . ’ lowest level since early april key seven % threshold . moving sideways throughout march mortgage rate began climb late april economic data showed inflation ’ cooldown stalled earlier year . mortgage rate track benchmark 10-year u treasury yield move anticipation federal reserve ’ decision interest rate . stubbornly high inflation year dashed hope fed could cut interest rate spring summer . ’ finally good news front : consumer price index april released last week showed inflation ’ pick . bond yield mostly retreated month . “ spring homebuyers received unexpected windfall week mortgage rate fell seven percent threshold first time month ” sam khater freddie mac ’ chief economist said release . fed official said earlier week likely ’ raise interest rate said expect cut rate year . bodes well lower mortgage rate . housing market ’ recovery stagnant . sale previously owned home make vast majority housing market fell april second month row national association realtor reported wednesday . ’ stark contrast earlier year sale soared .',\n",
       " \"saint ' 11-year spell top flight came end wretched campaign last time despite finishing one place three point behind leeds fourth join leicester ipswich going . adam armstrong scored decisive goal clinical finish put clear smallbone . leeds substitute dan james clattered bouncing ball crossbar late pushed equaliser russell martin 's men saw almost twelve minute time added . defeat leeds consigned another season championship meant lost past three final wembley without scoring unsuccessful six play-off campaign . saint ' promotion mean three play-off final year team finished lower league table team finished higher failing score three .\",\n",
       " 'scientist conducting research amazon rainforest made exciting discovery - new specie frog . frog named `` amazonian emerald frog `` due striking green coloration found deep within dense foliage rainforest . discovery made biodiversity survey conducted team biologist several international research institution . studying diverse ecosystem amazon stumbled upon previously unknown amphibian specie . amazonian emerald frog exhibit unique characteristic distinguish frog specie region . vibrant green skin speckled tiny golden spot make stand lush green backdrop rainforest . additionally distinctive call resembles sound tinkling bell instrumental identifying locating specie .']"
      ]
     },
     "execution_count": 162,
     "metadata": {},
     "output_type": "execute_result"
    }
   ],
   "source": [
    "corpus"
   ]
  },
  {
   "cell_type": "code",
   "execution_count": 163,
   "id": "48edf091-c141-43ce-b397-d2a0cfaf7ff2",
   "metadata": {},
   "outputs": [],
   "source": [
    "from sklearn.feature_extraction.text import TfidfVectorizer"
   ]
  },
  {
   "cell_type": "code",
   "execution_count": 164,
   "id": "9289520b-df59-40b2-98dc-4df290768127",
   "metadata": {},
   "outputs": [],
   "source": [
    "tfidfv = TfidfVectorizer().fit(corpus)"
   ]
  },
  {
   "cell_type": "code",
   "execution_count": 165,
   "id": "a9e1fa26-457f-4576-a8ef-b804acfae01a",
   "metadata": {},
   "outputs": [
    {
     "data": {
      "text/plain": [
       "['02',\n",
       " '10',\n",
       " '11',\n",
       " '12km',\n",
       " '30',\n",
       " '94',\n",
       " 'according',\n",
       " 'adam',\n",
       " 'added',\n",
       " 'additionally',\n",
       " 'advance',\n",
       " 'advantage',\n",
       " 'advised',\n",
       " 'aid',\n",
       " 'aim',\n",
       " 'air',\n",
       " 'ally',\n",
       " 'almost',\n",
       " 'amazon',\n",
       " 'amazonian',\n",
       " 'amphibian',\n",
       " 'another',\n",
       " 'anticipation',\n",
       " 'april',\n",
       " 'armstrong',\n",
       " 'around',\n",
       " 'association',\n",
       " 'attack',\n",
       " 'attempt',\n",
       " 'average',\n",
       " 'averaged',\n",
       " 'backdrop',\n",
       " 'ball',\n",
       " 'began',\n",
       " 'behind',\n",
       " 'belgorod',\n",
       " 'bell',\n",
       " 'benchmark',\n",
       " 'billion',\n",
       " 'biodiversity',\n",
       " 'biologist',\n",
       " 'bodes',\n",
       " 'bomb',\n",
       " 'bond',\n",
       " 'border',\n",
       " 'bouncing',\n",
       " 'break',\n",
       " 'call',\n",
       " 'called',\n",
       " 'came',\n",
       " 'campaign',\n",
       " 'capture',\n",
       " 'car',\n",
       " 'championship',\n",
       " 'characteristic',\n",
       " 'cheap',\n",
       " 'chief',\n",
       " 'city',\n",
       " 'claim',\n",
       " 'clattered',\n",
       " 'clear',\n",
       " 'climb',\n",
       " 'clinical',\n",
       " 'coloration',\n",
       " 'company',\n",
       " 'conducted',\n",
       " 'conducting',\n",
       " 'congress',\n",
       " 'consigned',\n",
       " 'consumer',\n",
       " 'continuing',\n",
       " 'contrast',\n",
       " 'control',\n",
       " 'cooldown',\n",
       " 'could',\n",
       " 'create',\n",
       " 'crossbar',\n",
       " 'cut',\n",
       " 'damaged',\n",
       " 'dan',\n",
       " 'dared',\n",
       " 'dashed',\n",
       " 'data',\n",
       " 'deal',\n",
       " 'decision',\n",
       " 'decisive',\n",
       " 'deep',\n",
       " 'defeat',\n",
       " 'defence',\n",
       " 'delayed',\n",
       " 'dense',\n",
       " 'deserve',\n",
       " 'despite',\n",
       " 'devastating',\n",
       " 'discovery',\n",
       " 'displaced',\n",
       " 'distinctive',\n",
       " 'distinguish',\n",
       " 'diverse',\n",
       " 'dollar',\n",
       " 'dozen',\n",
       " 'drone',\n",
       " 'due',\n",
       " 'earlier',\n",
       " 'early',\n",
       " 'eastern',\n",
       " 'economic',\n",
       " 'economist',\n",
       " 'ecosystem',\n",
       " 'eighty',\n",
       " 'emerald',\n",
       " 'employee',\n",
       " 'end',\n",
       " 'ending',\n",
       " 'equaliser',\n",
       " 'estimated',\n",
       " 'exciting',\n",
       " 'exhibit',\n",
       " 'expect',\n",
       " 'face',\n",
       " 'facility',\n",
       " 'failing',\n",
       " 'fed',\n",
       " 'federal',\n",
       " 'fell',\n",
       " 'fifteen',\n",
       " 'fighter',\n",
       " 'fighting',\n",
       " 'final',\n",
       " 'finally',\n",
       " 'finish',\n",
       " 'finished',\n",
       " 'finishing',\n",
       " 'first',\n",
       " 'fixed',\n",
       " 'flee',\n",
       " 'flight',\n",
       " 'foliage',\n",
       " 'force',\n",
       " 'found',\n",
       " 'fourteen',\n",
       " 'fourth',\n",
       " 'freddie',\n",
       " 'frog',\n",
       " 'front',\n",
       " 'glide',\n",
       " 'goal',\n",
       " 'going',\n",
       " 'golden',\n",
       " 'good',\n",
       " 'green',\n",
       " 'habicht',\n",
       " 'head',\n",
       " 'health',\n",
       " 'high',\n",
       " 'higher',\n",
       " 'home',\n",
       " 'homebuyers',\n",
       " 'hope',\n",
       " 'housing',\n",
       " 'hundred',\n",
       " 'identifying',\n",
       " 'including',\n",
       " 'index',\n",
       " 'inflation',\n",
       " 'injured',\n",
       " 'institution',\n",
       " 'instrumental',\n",
       " 'intention',\n",
       " 'interest',\n",
       " 'international',\n",
       " 'ipswich',\n",
       " 'james',\n",
       " 'jarno',\n",
       " 'jet',\n",
       " 'join',\n",
       " 'key',\n",
       " 'kharkiv',\n",
       " 'khater',\n",
       " 'killed',\n",
       " 'lack',\n",
       " 'largest',\n",
       " 'last',\n",
       " 'late',\n",
       " 'launching',\n",
       " 'league',\n",
       " 'least',\n",
       " 'leeds',\n",
       " 'leicester',\n",
       " 'level',\n",
       " 'likely',\n",
       " 'line',\n",
       " 'located',\n",
       " 'locating',\n",
       " 'lost',\n",
       " 'lower',\n",
       " 'lowest',\n",
       " 'lush',\n",
       " 'mac',\n",
       " 'made',\n",
       " 'majority',\n",
       " 'make',\n",
       " 'march',\n",
       " 'market',\n",
       " 'martin',\n",
       " 'may',\n",
       " 'mean',\n",
       " 'meant',\n",
       " 'men',\n",
       " 'mile',\n",
       " 'minute',\n",
       " 'missile',\n",
       " 'missing',\n",
       " 'modern',\n",
       " 'month',\n",
       " 'mortgage',\n",
       " 'mostly',\n",
       " 'move',\n",
       " 'moving',\n",
       " 'mr',\n",
       " 'multi',\n",
       " 'named',\n",
       " 'national',\n",
       " 'near',\n",
       " 'new',\n",
       " 'news',\n",
       " 'nine',\n",
       " 'north',\n",
       " 'number',\n",
       " 'off',\n",
       " 'offensive',\n",
       " 'official',\n",
       " 'oleg',\n",
       " 'one',\n",
       " 'ongoing',\n",
       " 'organization',\n",
       " 'others',\n",
       " 'owned',\n",
       " 'package',\n",
       " 'passed',\n",
       " 'past',\n",
       " 'people',\n",
       " 'percent',\n",
       " 'pick',\n",
       " 'place',\n",
       " 'play',\n",
       " 'pletenivka',\n",
       " 'point',\n",
       " 'post',\n",
       " 'president',\n",
       " 'previously',\n",
       " 'price',\n",
       " 'promotion',\n",
       " 'pushed',\n",
       " 'put',\n",
       " 'putin',\n",
       " 'railway',\n",
       " 'rainforest',\n",
       " 'raise',\n",
       " 'rate',\n",
       " 'realtor',\n",
       " 'received',\n",
       " 'recovery',\n",
       " 'region',\n",
       " 'regional',\n",
       " 'release',\n",
       " 'released',\n",
       " 'remain',\n",
       " 'renewed',\n",
       " 'repeatedly',\n",
       " 'reported',\n",
       " 'research',\n",
       " 'resembles',\n",
       " 'reserve',\n",
       " 'result',\n",
       " 'retreated',\n",
       " 'risk',\n",
       " 'row',\n",
       " 'russell',\n",
       " 'russia',\n",
       " 'russian',\n",
       " 'said',\n",
       " 'saint',\n",
       " 'sale',\n",
       " 'sam',\n",
       " 'saw',\n",
       " 'scientist',\n",
       " 'score',\n",
       " 'scored',\n",
       " 'scoring',\n",
       " 'season',\n",
       " 'second',\n",
       " 'security',\n",
       " 'seven',\n",
       " 'several',\n",
       " 'shelter',\n",
       " 'showed',\n",
       " 'sideways',\n",
       " 'significant',\n",
       " 'since',\n",
       " 'sinegubov',\n",
       " 'six',\n",
       " 'skin',\n",
       " 'smallbone',\n",
       " 'soared',\n",
       " 'sound',\n",
       " 'specie',\n",
       " 'speckled',\n",
       " 'spell',\n",
       " 'spot',\n",
       " 'spring',\n",
       " 'stagnant',\n",
       " 'stalled',\n",
       " 'stand',\n",
       " 'standard',\n",
       " 'stark',\n",
       " 'state',\n",
       " 'stretched',\n",
       " 'strike',\n",
       " 'striking',\n",
       " 'stubbornly',\n",
       " 'studying',\n",
       " 'stumbled',\n",
       " 'substitute',\n",
       " 'summer',\n",
       " 'supply',\n",
       " 'surface',\n",
       " 'survey',\n",
       " 'system',\n",
       " 'table',\n",
       " 'taking',\n",
       " 'targeted',\n",
       " 'team',\n",
       " 'territory',\n",
       " 'terrorist',\n",
       " 'thousand',\n",
       " 'three',\n",
       " 'threshold',\n",
       " 'throughout',\n",
       " 'thursday',\n",
       " 'time',\n",
       " 'tinkling',\n",
       " 'tiny',\n",
       " 'to',\n",
       " 'top',\n",
       " 'town',\n",
       " 'track',\n",
       " 'treasury',\n",
       " 'troop',\n",
       " 'twelve',\n",
       " 'twenty',\n",
       " 'two',\n",
       " 'ukraine',\n",
       " 'ukrainian',\n",
       " 'unexpected',\n",
       " 'unique',\n",
       " 'unknown',\n",
       " 'unsuccessful',\n",
       " 'upon',\n",
       " 'us',\n",
       " 'vast',\n",
       " 'vibrant',\n",
       " 'vladimir',\n",
       " 'volodymyr',\n",
       " 'vovchansk',\n",
       " 'way',\n",
       " 'weakened',\n",
       " 'weakness',\n",
       " 'wednesday',\n",
       " 'week',\n",
       " 'well',\n",
       " 'wembley',\n",
       " 'windfall',\n",
       " 'within',\n",
       " 'without',\n",
       " 'woman',\n",
       " 'world',\n",
       " 'wrangling',\n",
       " 'wretched',\n",
       " 'year',\n",
       " 'yield',\n",
       " 'zelensky',\n",
       " 'zone']"
      ]
     },
     "execution_count": 165,
     "metadata": {},
     "output_type": "execute_result"
    }
   ],
   "source": [
    "word_id_list = sorted(tfidfv.vocabulary_.items(), key=lambda x: x[1], reverse=False)\n",
    "word_list = [x[0] for x in word_id_list]\n",
    "word_list"
   ]
  },
  {
   "cell_type": "code",
   "execution_count": 166,
   "id": "4c1e99d5-9d1b-4369-ad2a-31f0a84a0920",
   "metadata": {},
   "outputs": [
    {
     "name": "stdout",
     "output_type": "stream",
     "text": [
      "[[0.         0.         0.         ... 0.         0.08697284 0.04348642]\n",
      " [0.05491334 0.05491334 0.         ... 0.10982668 0.         0.        ]\n",
      " [0.         0.         0.09484832 ... 0.         0.         0.        ]\n",
      " [0.         0.         0.         ... 0.         0.         0.        ]]\n"
     ]
    }
   ],
   "source": [
    "print(tfidfv.transform(corpus).toarray())"
   ]
  },
  {
   "cell_type": "code",
   "execution_count": 167,
   "id": "a931c259-82bb-4f3c-9c72-a7a2009a12a0",
   "metadata": {},
   "outputs": [
    {
     "data": {
      "text/html": [
       "<div>\n",
       "<style scoped>\n",
       "    .dataframe tbody tr th:only-of-type {\n",
       "        vertical-align: middle;\n",
       "    }\n",
       "\n",
       "    .dataframe tbody tr th {\n",
       "        vertical-align: top;\n",
       "    }\n",
       "\n",
       "    .dataframe thead th {\n",
       "        text-align: right;\n",
       "    }\n",
       "</style>\n",
       "<table border=\"1\" class=\"dataframe\">\n",
       "  <thead>\n",
       "    <tr style=\"text-align: right;\">\n",
       "      <th></th>\n",
       "      <th>02</th>\n",
       "      <th>10</th>\n",
       "      <th>11</th>\n",
       "      <th>12km</th>\n",
       "      <th>30</th>\n",
       "      <th>94</th>\n",
       "      <th>according</th>\n",
       "      <th>adam</th>\n",
       "      <th>added</th>\n",
       "      <th>additionally</th>\n",
       "      <th>...</th>\n",
       "      <th>within</th>\n",
       "      <th>without</th>\n",
       "      <th>woman</th>\n",
       "      <th>world</th>\n",
       "      <th>wrangling</th>\n",
       "      <th>wretched</th>\n",
       "      <th>year</th>\n",
       "      <th>yield</th>\n",
       "      <th>zelensky</th>\n",
       "      <th>zone</th>\n",
       "    </tr>\n",
       "  </thead>\n",
       "  <tbody>\n",
       "    <tr>\n",
       "      <th>text1</th>\n",
       "      <td>0.000000</td>\n",
       "      <td>0.000000</td>\n",
       "      <td>0.000000</td>\n",
       "      <td>0.043486</td>\n",
       "      <td>0.000000</td>\n",
       "      <td>0.000000</td>\n",
       "      <td>0.068570</td>\n",
       "      <td>0.000000</td>\n",
       "      <td>0.000000</td>\n",
       "      <td>0.000000</td>\n",
       "      <td>...</td>\n",
       "      <td>0.000000</td>\n",
       "      <td>0.000000</td>\n",
       "      <td>0.043486</td>\n",
       "      <td>0.086973</td>\n",
       "      <td>0.043486</td>\n",
       "      <td>0.000000</td>\n",
       "      <td>0.027757</td>\n",
       "      <td>0.000000</td>\n",
       "      <td>0.086973</td>\n",
       "      <td>0.043486</td>\n",
       "    </tr>\n",
       "    <tr>\n",
       "      <th>text2</th>\n",
       "      <td>0.054913</td>\n",
       "      <td>0.054913</td>\n",
       "      <td>0.000000</td>\n",
       "      <td>0.000000</td>\n",
       "      <td>0.054913</td>\n",
       "      <td>0.054913</td>\n",
       "      <td>0.043294</td>\n",
       "      <td>0.000000</td>\n",
       "      <td>0.000000</td>\n",
       "      <td>0.000000</td>\n",
       "      <td>...</td>\n",
       "      <td>0.000000</td>\n",
       "      <td>0.000000</td>\n",
       "      <td>0.000000</td>\n",
       "      <td>0.000000</td>\n",
       "      <td>0.000000</td>\n",
       "      <td>0.000000</td>\n",
       "      <td>0.210303</td>\n",
       "      <td>0.109827</td>\n",
       "      <td>0.000000</td>\n",
       "      <td>0.000000</td>\n",
       "    </tr>\n",
       "    <tr>\n",
       "      <th>text3</th>\n",
       "      <td>0.000000</td>\n",
       "      <td>0.000000</td>\n",
       "      <td>0.094848</td>\n",
       "      <td>0.000000</td>\n",
       "      <td>0.000000</td>\n",
       "      <td>0.000000</td>\n",
       "      <td>0.000000</td>\n",
       "      <td>0.094848</td>\n",
       "      <td>0.094848</td>\n",
       "      <td>0.000000</td>\n",
       "      <td>...</td>\n",
       "      <td>0.000000</td>\n",
       "      <td>0.094848</td>\n",
       "      <td>0.000000</td>\n",
       "      <td>0.000000</td>\n",
       "      <td>0.000000</td>\n",
       "      <td>0.094848</td>\n",
       "      <td>0.121081</td>\n",
       "      <td>0.000000</td>\n",
       "      <td>0.000000</td>\n",
       "      <td>0.000000</td>\n",
       "    </tr>\n",
       "    <tr>\n",
       "      <th>text4</th>\n",
       "      <td>0.000000</td>\n",
       "      <td>0.000000</td>\n",
       "      <td>0.000000</td>\n",
       "      <td>0.000000</td>\n",
       "      <td>0.000000</td>\n",
       "      <td>0.000000</td>\n",
       "      <td>0.000000</td>\n",
       "      <td>0.000000</td>\n",
       "      <td>0.000000</td>\n",
       "      <td>0.086641</td>\n",
       "      <td>...</td>\n",
       "      <td>0.086641</td>\n",
       "      <td>0.000000</td>\n",
       "      <td>0.000000</td>\n",
       "      <td>0.000000</td>\n",
       "      <td>0.000000</td>\n",
       "      <td>0.000000</td>\n",
       "      <td>0.000000</td>\n",
       "      <td>0.000000</td>\n",
       "      <td>0.000000</td>\n",
       "      <td>0.000000</td>\n",
       "    </tr>\n",
       "  </tbody>\n",
       "</table>\n",
       "<p>4 rows × 383 columns</p>\n",
       "</div>"
      ],
      "text/plain": [
       "             02        10        11      12km        30        94  according  \\\n",
       "text1  0.000000  0.000000  0.000000  0.043486  0.000000  0.000000   0.068570   \n",
       "text2  0.054913  0.054913  0.000000  0.000000  0.054913  0.054913   0.043294   \n",
       "text3  0.000000  0.000000  0.094848  0.000000  0.000000  0.000000   0.000000   \n",
       "text4  0.000000  0.000000  0.000000  0.000000  0.000000  0.000000   0.000000   \n",
       "\n",
       "           adam     added  additionally  ...    within   without     woman  \\\n",
       "text1  0.000000  0.000000      0.000000  ...  0.000000  0.000000  0.043486   \n",
       "text2  0.000000  0.000000      0.000000  ...  0.000000  0.000000  0.000000   \n",
       "text3  0.094848  0.094848      0.000000  ...  0.000000  0.094848  0.000000   \n",
       "text4  0.000000  0.000000      0.086641  ...  0.086641  0.000000  0.000000   \n",
       "\n",
       "          world  wrangling  wretched      year     yield  zelensky      zone  \n",
       "text1  0.086973   0.043486  0.000000  0.027757  0.000000  0.086973  0.043486  \n",
       "text2  0.000000   0.000000  0.000000  0.210303  0.109827  0.000000  0.000000  \n",
       "text3  0.000000   0.000000  0.094848  0.121081  0.000000  0.000000  0.000000  \n",
       "text4  0.000000   0.000000  0.000000  0.000000  0.000000  0.000000  0.000000  \n",
       "\n",
       "[4 rows x 383 columns]"
      ]
     },
     "execution_count": 167,
     "metadata": {},
     "output_type": "execute_result"
    }
   ],
   "source": [
    "tf_idf_df = pd.DataFrame(tfidfv.transform(corpus).toarray(), columns = word_list, index = ['text1','text2','text3','text4'])\n",
    "\n",
    "tf_idf_df"
   ]
  },
  {
   "cell_type": "markdown",
   "id": "caba2723-a38e-406c-9d99-c934dda8d461",
   "metadata": {},
   "source": [
    "### 코사인 유사도"
   ]
  },
  {
   "cell_type": "markdown",
   "id": "6592225c-dea8-41b2-a902-4355e6ecee08",
   "metadata": {},
   "source": [
    "코사인 유사도는 두 벡터 간의 코사인 각도를 이용하여 구할 수 있는 두 벡터의 유사도를 의미합니다. 두 벡터의 방향이 완전히 동일한 경우에는 1의 값을 가지며, 90°의 각을 이루면 0, 180°로 반대의 방향을 가지면 -1의 값을 갖게 됩니다. 즉, 결국 코사인 유사도는 -1 이상 1 이하의 값을 가지며 값이 1에 가까울수록 유사도가 높다고 판단할 수 있습니다. 이를 직관적으로 이해하면 두 벡터가 가리키는 방향이 얼마나 유사한가를 의미합니다."
   ]
  },
  {
   "cell_type": "code",
   "execution_count": 168,
   "id": "b60fef2f-19a8-48cc-a30d-4533d17d3663",
   "metadata": {},
   "outputs": [],
   "source": [
    "from sklearn.metrics.pairwise import cosine_similarity\n",
    "feature = tfidfv.fit_transform(corpus).toarray()\n",
    "cosine_sim = cosine_similarity(feature, feature)"
   ]
  },
  {
   "cell_type": "code",
   "execution_count": 169,
   "id": "306789b8-e50a-485b-adac-7e810724aa6a",
   "metadata": {},
   "outputs": [
    {
     "data": {
      "text/plain": [
       "(4, 4)"
      ]
     },
     "execution_count": 169,
     "metadata": {},
     "output_type": "execute_result"
    }
   ],
   "source": [
    "cosine_sim.shape"
   ]
  },
  {
   "cell_type": "code",
   "execution_count": 170,
   "id": "b8db15b1-bc57-42ea-b987-50ec9ea282cb",
   "metadata": {},
   "outputs": [
    {
     "data": {
      "text/plain": [
       "array([[1.        , 0.08292365, 0.03033381, 0.01873577],\n",
       "       [0.08292365, 1.        , 0.04891449, 0.00591474],\n",
       "       [0.03033381, 0.04891449, 1.        , 0.01021615],\n",
       "       [0.01873577, 0.00591474, 0.01021615, 1.        ]])"
      ]
     },
     "execution_count": 170,
     "metadata": {},
     "output_type": "execute_result"
    }
   ],
   "source": [
    "cosine_sim"
   ]
  },
  {
   "cell_type": "code",
   "execution_count": 171,
   "id": "099e6e03-3076-4829-86a4-47af29f8f631",
   "metadata": {},
   "outputs": [
    {
     "data": {
      "text/html": [
       "<div>\n",
       "<style scoped>\n",
       "    .dataframe tbody tr th:only-of-type {\n",
       "        vertical-align: middle;\n",
       "    }\n",
       "\n",
       "    .dataframe tbody tr th {\n",
       "        vertical-align: top;\n",
       "    }\n",
       "\n",
       "    .dataframe thead th {\n",
       "        text-align: right;\n",
       "    }\n",
       "</style>\n",
       "<table border=\"1\" class=\"dataframe\">\n",
       "  <thead>\n",
       "    <tr style=\"text-align: right;\">\n",
       "      <th></th>\n",
       "      <th>text1</th>\n",
       "      <th>text2</th>\n",
       "      <th>text3</th>\n",
       "      <th>text4</th>\n",
       "    </tr>\n",
       "  </thead>\n",
       "  <tbody>\n",
       "    <tr>\n",
       "      <th>text1</th>\n",
       "      <td>1.000000</td>\n",
       "      <td>0.082924</td>\n",
       "      <td>0.030334</td>\n",
       "      <td>0.018736</td>\n",
       "    </tr>\n",
       "    <tr>\n",
       "      <th>text2</th>\n",
       "      <td>0.082924</td>\n",
       "      <td>1.000000</td>\n",
       "      <td>0.048914</td>\n",
       "      <td>0.005915</td>\n",
       "    </tr>\n",
       "    <tr>\n",
       "      <th>text3</th>\n",
       "      <td>0.030334</td>\n",
       "      <td>0.048914</td>\n",
       "      <td>1.000000</td>\n",
       "      <td>0.010216</td>\n",
       "    </tr>\n",
       "    <tr>\n",
       "      <th>text4</th>\n",
       "      <td>0.018736</td>\n",
       "      <td>0.005915</td>\n",
       "      <td>0.010216</td>\n",
       "      <td>1.000000</td>\n",
       "    </tr>\n",
       "  </tbody>\n",
       "</table>\n",
       "</div>"
      ],
      "text/plain": [
       "          text1     text2     text3     text4\n",
       "text1  1.000000  0.082924  0.030334  0.018736\n",
       "text2  0.082924  1.000000  0.048914  0.005915\n",
       "text3  0.030334  0.048914  1.000000  0.010216\n",
       "text4  0.018736  0.005915  0.010216  1.000000"
      ]
     },
     "execution_count": 171,
     "metadata": {},
     "output_type": "execute_result"
    }
   ],
   "source": [
    "cos_sim_df = pd.DataFrame(cosine_similarity(tf_idf_df, tf_idf_df), columns = ['text1','text2','text3','text4'], index = ['text1','text2','text3','text4'])\n",
    "\n",
    "cos_sim_df"
   ]
  },
  {
   "cell_type": "code",
   "execution_count": 172,
   "id": "f56481bc-0809-4206-be5c-3bbdb3b1af40",
   "metadata": {},
   "outputs": [
    {
     "data": {
      "text/plain": [
       "text1    text2\n",
       "text2    text1\n",
       "text3    text2\n",
       "text4    text1\n",
       "dtype: object"
      ]
     },
     "execution_count": 172,
     "metadata": {},
     "output_type": "execute_result"
    }
   ],
   "source": [
    "cos_sim_df[cos_sim_df < (1-1e-6)].idxmax()  #idxmax() 함수는 데이터프레임에서 가장 큰 값을 가지는 인덱스를 반환하는 함수"
   ]
  },
  {
   "cell_type": "markdown",
   "id": "5ab09891-decb-4a2b-9724-4c14555642f5",
   "metadata": {},
   "source": [
    "### Hierarchical agglomerative clusteringr계층적 군집 분석)"
   ]
  },
  {
   "cell_type": "markdown",
   "id": "488b8f3a-9210-416e-99cf-374f71a80bc2",
   "metadata": {},
   "source": [
    "`linkage` 매개변수는 병합된 군집의 분산을 최소화하는 링크 기준을 결정합니다. 선택할 수 있는 옵션으로는 `'ward'`, `'complete'`, `'average'`, 또는 `'single'`이 있습니다.\r\n",
    "\r\n",
    "- `'ward'`는 병합된 군집의 분산을 최소화합니다.\r\n",
    "- `'complete'`는 두 집합의 모든 관측치 간의 최대 거리를 사용합니다.\r\n",
    "- `'average'`는 두 집합의 관측치 간의 거리 평균을 사용합니다.\r\n",
    "- `'single'`은 두 집합의 모든 관측치 간의 최소 거리를 사용합니다.\r\n",
    "용합니다."
   ]
  },
  {
   "cell_type": "code",
   "execution_count": null,
   "id": "ae89c1e7-de2e-41b2-9880-4a83d413891d",
   "metadata": {},
   "outputs": [],
   "source": [
    " # X= np.array([[5,3],\n",
    " #    [10,15],\n",
    " #    [15,12],\n",
    " #    [24,10],\n",
    " #    [30,30],\n",
    " #    [85,70],\n",
    " #    [71,80],\n",
    " #    [60,78],\n",
    " #    [70,55],\n",
    " #    [80,91],])"
   ]
  },
  {
   "cell_type": "code",
   "execution_count": null,
   "id": "723ab515-25bd-49d3-8ad6-bfad02783e7f",
   "metadata": {},
   "outputs": [],
   "source": [
    "# from scipy.cluster.hierarchy import dendrogram, linkage\n",
    "# from matplotlib import pyplot as plt\n",
    "\n",
    "# linked = linkage(X, 'single')\n",
    "\n",
    "# labelList = range(1, 11)\n",
    "\n",
    "# plt.figure(figsize=(10, 7))\n",
    "# dendrogram(linked,\n",
    "#             orientation='top',\n",
    "#             labels=labelList,\n",
    "#             distance_sort='descending',\n",
    "#             show_leaf_counts=True)\n",
    "# plt.show()"
   ]
  },
  {
   "cell_type": "code",
   "execution_count": 173,
   "id": "8c054810-6a7b-4a11-9b0a-2b0da0d28bd4",
   "metadata": {},
   "outputs": [],
   "source": [
    "# 클러스터링을 수행하는 함수\n",
    "def clustering_model(similarity_matrix):\n",
    "    # 계층적 병합 클러스터링 \n",
    "    clustering = linkage(similarity_matrix, method='ward')\n",
    "    return clustering"
   ]
  },
  {
   "cell_type": "code",
   "execution_count": 174,
   "id": "d1c87ae5-5c43-4103-8fe4-6180a1b0dc1c",
   "metadata": {},
   "outputs": [],
   "source": [
    "# 덴드로그램을 그리는 함수\n",
    "def plot_dendrogram(clustering, labels):\n",
    "    plt.figure(figsize=(10, 7))\n",
    "    dendrogram(clustering, labels=labels, orientation='right')\n",
    "    plt.xlabel('Distance')\n",
    "    plt.ylabel('Document')\n",
    "    plt.title('Hierarchical Clustering Dendrogram')\n",
    "    plt.show()"
   ]
  },
  {
   "cell_type": "code",
   "execution_count": 175,
   "id": "cbdab17e-d8e9-46c0-a52c-1742705c0f2c",
   "metadata": {},
   "outputs": [],
   "source": [
    "clustering=clustering_model(cosine_sim)"
   ]
  },
  {
   "cell_type": "code",
   "execution_count": 46,
   "id": "921cbc0b-3ff6-4a1d-91d3-503956688a80",
   "metadata": {},
   "outputs": [
    {
     "data": {
      "image/png": "[encoded data removed]",
      "text/plain": [
       "<Figure size 1000x700 with 1 Axes>"
      ]
     },
     "metadata": {},
     "output_type": "display_data"
    }
   ],
   "source": [
    "#덴드로그램을 그림\n",
    "import matplotlib.pyplot as plt\n",
    "plot_dendrogram(clustering, labels=['text1','text2','text3','text4'])"
   ]
  },
  {
   "cell_type": "code",
   "execution_count": 55,
   "id": "2166278f-2115-4e48-ae90-65c911ab65b6",
   "metadata": {},
   "outputs": [
    {
     "data": {
      "text/plain": [
       "array([0, 0, 0, 1], dtype=int64)"
      ]
     },
     "execution_count": 55,
     "metadata": {},
     "output_type": "execute_result"
    }
   ],
   "source": [
    "from sklearn.cluster import AgglomerativeClustering\n",
    "# cosine_dist = 1 - cosine_sim\n",
    "cluster = AgglomerativeClustering(n_clusters=2, linkage='average')\n",
    "cluster.fit_predict(cosine_sim)\n",
    "\n"
   ]
  },
  {
   "cell_type": "code",
   "execution_count": 56,
   "id": "88635fb8-a766-45dd-960d-75038ac64818",
   "metadata": {},
   "outputs": [
    {
     "data": {
      "text/plain": [
       "<matplotlib.collections.PathCollection at 0x292252c2720>"
      ]
     },
     "execution_count": 56,
     "metadata": {},
     "output_type": "execute_result"
    },
    {
     "data": {
      "image/png": "[encoded data removed]",
      "text/plain": [
       "<Figure size 1000x700 with 1 Axes>"
      ]
     },
     "metadata": {},
     "output_type": "display_data"
    }
   ],
   "source": [
    "plt.figure(figsize=(10, 7))\n",
    "plt.scatter(cosine_sim[:,0], cosine_sim[:,1], c=cluster.labels_, cmap='rainbow')"
   ]
  },
  {
   "cell_type": "markdown",
   "id": "916f22ac-f5ef-48ec-b425-a82c01e45c3b",
   "metadata": {},
   "source": [
    "### 총정리"
   ]
  },
  {
   "cell_type": "code",
   "execution_count": null,
   "id": "3ac19947-d571-449d-a6f6-f032f22ecb2d",
   "metadata": {},
   "outputs": [],
   "source": [
    "from sklearn.feature_extraction.text import TfidfVectorizer\n",
    "from sklearn.metrics.pairwise import cosine_similarity\n",
    "from scipy.cluster.hierarchy import linkage, dendrogram\n",
    "import matplotlib.pyplot as plt\n",
    "\n",
    "# 대용량의 문서를 읽는 generator\n",
    "def generate_large_documents(file_path):\n",
    "    with open(file_path, 'r', encoding='utf-8') as file:\n",
    "        for line in file:\n",
    "            yield line.strip()\n",
    "\n",
    "# TF-IDF 가중치를 계산하는 함수\n",
    "def calculate_tfidf(documents_generator):\n",
    "    vectorizer = TfidfVectorizer()\n",
    "    tfidf_matrix = vectorizer.fit_transform(documents_generator)\n",
    "    return tfidf_matrix\n",
    "\n",
    "# 코사인 유사도를 계산하는 함수\n",
    "def calculate_cosine_similarity(tfidf_matrix):\n",
    "    similarity_matrix = cosine_similarity(tfidf_matrix)\n",
    "    return similarity_matrix\n",
    "\n",
    "# 클러스터링을 수행하는 함수\n",
    "def perform_clustering(similarity_matrix):\n",
    "    clustering = linkage(similarity_matrix, method='ward')\n",
    "    return clustering\n",
    "\n",
    "# 덴드로그램을 그리는 함수\n",
    "def plot_dendrogram(clustering, labels):\n",
    "    plt.figure(figsize=(10, 7))\n",
    "    dendrogram(clustering, labels=labels, orientation='right')\n",
    "    plt.xlabel('Distance')\n",
    "    plt.ylabel('Document')\n",
    "    plt.title('Hierarchical Clustering Dendrogram')\n",
    "    plt.show()\n",
    "\n",
    "# 대용량 문서 파일의 경로\n",
    "file_path = \"large_documents.txt\"\n",
    "\n",
    "# 대용량 문서를 처리하고 클러스터링 수행\n",
    "documents_generator = generate_large_documents(file_path)\n",
    "tfidf_matrix = calculate_tfidf(documents_generator)\n",
    "similarity_matrix = calculate_cosine_similarity(tfidf_matrix)\n",
    "clustering = perform_clustering(similarity_matrix)\n",
    "\n",
    "# 덴드로그램을 그림\n",
    "plot_dendrogram(clustering, labels=None)"
   ]
  },
  {
   "cell_type": "code",
   "execution_count": 66,
   "id": "8684ddf4-d353-42dc-afed-b44b8146a6f7",
   "metadata": {},
   "outputs": [],
   "source": [
    "import sqlalchemy\n",
    "import urllib.parse\n",
    "import json\n",
    "\n",
    "with open(\"conn_db.json\", 'r') as f:\n",
    "    db_conn = json.load(f)\n",
    "db_password = urllib.parse.quote_plus(db_conn['PASS'])\n",
    "\n",
    "engine = sqlalchemy.create_engine(f\"mysql://{db_conn['USER']}:{db_password}@{db_conn['HOST']}:{db_conn['PORT']}/{db_conn['DB']}\")"
   ]
  },
  {
   "cell_type": "code",
   "execution_count": 5,
   "id": "c74e4d24-1009-4cd6-8e2e-08b2367ef443",
   "metadata": {},
   "outputs": [
    {
     "ename": "ProgrammingError",
     "evalue": "(MySQLdb.ProgrammingError) (1146, \"Table '2nd_db5.customers' doesn't exist\")\n[SQL: select * from customers]\n(Background on this error at: https://sqlalche.me/e/20/f405)",
     "output_type": "error",
     "traceback": [
      "\u001b[1;31m---------------------------------------------------------------------------\u001b[0m",
      "\u001b[1;31mProgrammingError\u001b[0m                          Traceback (most recent call last)",
      "File \u001b[1;32m~\\miniconda3\\Lib\\site-packages\\sqlalchemy\\engine\\base.py:1971\u001b[0m, in \u001b[0;36mConnection._exec_single_context\u001b[1;34m(self, dialect, context, statement, parameters)\u001b[0m\n\u001b[0;32m   1970\u001b[0m     \u001b[38;5;28;01mif\u001b[39;00m \u001b[38;5;129;01mnot\u001b[39;00m evt_handled:\n\u001b[1;32m-> 1971\u001b[0m         \u001b[38;5;28mself\u001b[39m\u001b[38;5;241m.\u001b[39mdialect\u001b[38;5;241m.\u001b[39mdo_execute(\n\u001b[0;32m   1972\u001b[0m             cursor, str_statement, effective_parameters, context\n\u001b[0;32m   1973\u001b[0m         )\n\u001b[0;32m   1975\u001b[0m \u001b[38;5;28;01mif\u001b[39;00m \u001b[38;5;28mself\u001b[39m\u001b[38;5;241m.\u001b[39m_has_events \u001b[38;5;129;01mor\u001b[39;00m \u001b[38;5;28mself\u001b[39m\u001b[38;5;241m.\u001b[39mengine\u001b[38;5;241m.\u001b[39m_has_events:\n",
      "File \u001b[1;32m~\\miniconda3\\Lib\\site-packages\\sqlalchemy\\engine\\default.py:919\u001b[0m, in \u001b[0;36mDefaultDialect.do_execute\u001b[1;34m(self, cursor, statement, parameters, context)\u001b[0m\n\u001b[0;32m    918\u001b[0m \u001b[38;5;28;01mdef\u001b[39;00m \u001b[38;5;21mdo_execute\u001b[39m(\u001b[38;5;28mself\u001b[39m, cursor, statement, parameters, context\u001b[38;5;241m=\u001b[39m\u001b[38;5;28;01mNone\u001b[39;00m):\n\u001b[1;32m--> 919\u001b[0m     cursor\u001b[38;5;241m.\u001b[39mexecute(statement, parameters)\n",
      "File \u001b[1;32m~\\miniconda3\\Lib\\site-packages\\MySQLdb\\cursors.py:179\u001b[0m, in \u001b[0;36mBaseCursor.execute\u001b[1;34m(self, query, args)\u001b[0m\n\u001b[0;32m    178\u001b[0m \u001b[38;5;28;01massert\u001b[39;00m \u001b[38;5;28misinstance\u001b[39m(mogrified_query, (\u001b[38;5;28mbytes\u001b[39m, \u001b[38;5;28mbytearray\u001b[39m))\n\u001b[1;32m--> 179\u001b[0m res \u001b[38;5;241m=\u001b[39m \u001b[38;5;28mself\u001b[39m\u001b[38;5;241m.\u001b[39m_query(mogrified_query)\n\u001b[0;32m    180\u001b[0m \u001b[38;5;28;01mreturn\u001b[39;00m res\n",
      "File \u001b[1;32m~\\miniconda3\\Lib\\site-packages\\MySQLdb\\cursors.py:330\u001b[0m, in \u001b[0;36mBaseCursor._query\u001b[1;34m(self, q)\u001b[0m\n\u001b[0;32m    329\u001b[0m \u001b[38;5;28mself\u001b[39m\u001b[38;5;241m.\u001b[39mlastrowid \u001b[38;5;241m=\u001b[39m \u001b[38;5;28;01mNone\u001b[39;00m\n\u001b[1;32m--> 330\u001b[0m db\u001b[38;5;241m.\u001b[39mquery(q)\n\u001b[0;32m    331\u001b[0m \u001b[38;5;28mself\u001b[39m\u001b[38;5;241m.\u001b[39m_do_get_result(db)\n",
      "File \u001b[1;32m~\\miniconda3\\Lib\\site-packages\\MySQLdb\\connections.py:261\u001b[0m, in \u001b[0;36mConnection.query\u001b[1;34m(self, query)\u001b[0m\n\u001b[0;32m    260\u001b[0m     query \u001b[38;5;241m=\u001b[39m \u001b[38;5;28mbytes\u001b[39m(query)\n\u001b[1;32m--> 261\u001b[0m _mysql\u001b[38;5;241m.\u001b[39mconnection\u001b[38;5;241m.\u001b[39mquery(\u001b[38;5;28mself\u001b[39m, query)\n",
      "\u001b[1;31mProgrammingError\u001b[0m: (1146, \"Table '2nd_db5.customers' doesn't exist\")",
      "\nThe above exception was the direct cause of the following exception:\n",
      "\u001b[1;31mProgrammingError\u001b[0m                          Traceback (most recent call last)",
      "Cell \u001b[1;32mIn[5], line 2\u001b[0m\n\u001b[0;32m      1\u001b[0m \u001b[38;5;28;01mimport\u001b[39;00m \u001b[38;5;21;01mpandas\u001b[39;00m \u001b[38;5;28;01mas\u001b[39;00m \u001b[38;5;21;01mpd\u001b[39;00m\n\u001b[1;32m----> 2\u001b[0m df\u001b[38;5;241m=\u001b[39mpd\u001b[38;5;241m.\u001b[39mread_sql_query(\u001b[38;5;124m\"\u001b[39m\u001b[38;5;124mselect * from customers\u001b[39m\u001b[38;5;124m\"\u001b[39m, con\u001b[38;5;241m=\u001b[39mengine)[\u001b[38;5;241m1\u001b[39m:]\n\u001b[0;32m      3\u001b[0m df\n",
      "File \u001b[1;32m~\\miniconda3\\Lib\\site-packages\\pandas\\io\\sql.py:526\u001b[0m, in \u001b[0;36mread_sql_query\u001b[1;34m(sql, con, index_col, coerce_float, params, parse_dates, chunksize, dtype, dtype_backend)\u001b[0m\n\u001b[0;32m    523\u001b[0m \u001b[38;5;28;01massert\u001b[39;00m dtype_backend \u001b[38;5;129;01mis\u001b[39;00m \u001b[38;5;129;01mnot\u001b[39;00m lib\u001b[38;5;241m.\u001b[39mno_default\n\u001b[0;32m    525\u001b[0m \u001b[38;5;28;01mwith\u001b[39;00m pandasSQL_builder(con) \u001b[38;5;28;01mas\u001b[39;00m pandas_sql:\n\u001b[1;32m--> 526\u001b[0m     \u001b[38;5;28;01mreturn\u001b[39;00m pandas_sql\u001b[38;5;241m.\u001b[39mread_query(\n\u001b[0;32m    527\u001b[0m         sql,\n\u001b[0;32m    528\u001b[0m         index_col\u001b[38;5;241m=\u001b[39mindex_col,\n\u001b[0;32m    529\u001b[0m         params\u001b[38;5;241m=\u001b[39mparams,\n\u001b[0;32m    530\u001b[0m         coerce_float\u001b[38;5;241m=\u001b[39mcoerce_float,\n\u001b[0;32m    531\u001b[0m         parse_dates\u001b[38;5;241m=\u001b[39mparse_dates,\n\u001b[0;32m    532\u001b[0m         chunksize\u001b[38;5;241m=\u001b[39mchunksize,\n\u001b[0;32m    533\u001b[0m         dtype\u001b[38;5;241m=\u001b[39mdtype,\n\u001b[0;32m    534\u001b[0m         dtype_backend\u001b[38;5;241m=\u001b[39mdtype_backend,\n\u001b[0;32m    535\u001b[0m     )\n",
      "File \u001b[1;32m~\\miniconda3\\Lib\\site-packages\\pandas\\io\\sql.py:1836\u001b[0m, in \u001b[0;36mSQLDatabase.read_query\u001b[1;34m(self, sql, index_col, coerce_float, parse_dates, params, chunksize, dtype, dtype_backend)\u001b[0m\n\u001b[0;32m   1779\u001b[0m \u001b[38;5;28;01mdef\u001b[39;00m \u001b[38;5;21mread_query\u001b[39m(\n\u001b[0;32m   1780\u001b[0m     \u001b[38;5;28mself\u001b[39m,\n\u001b[0;32m   1781\u001b[0m     sql: \u001b[38;5;28mstr\u001b[39m,\n\u001b[1;32m   (...)\u001b[0m\n\u001b[0;32m   1788\u001b[0m     dtype_backend: DtypeBackend \u001b[38;5;241m|\u001b[39m Literal[\u001b[38;5;124m\"\u001b[39m\u001b[38;5;124mnumpy\u001b[39m\u001b[38;5;124m\"\u001b[39m] \u001b[38;5;241m=\u001b[39m \u001b[38;5;124m\"\u001b[39m\u001b[38;5;124mnumpy\u001b[39m\u001b[38;5;124m\"\u001b[39m,\n\u001b[0;32m   1789\u001b[0m ) \u001b[38;5;241m-\u001b[39m\u001b[38;5;241m>\u001b[39m DataFrame \u001b[38;5;241m|\u001b[39m Iterator[DataFrame]:\n\u001b[0;32m   1790\u001b[0m \u001b[38;5;250m    \u001b[39m\u001b[38;5;124;03m\"\"\"\u001b[39;00m\n\u001b[0;32m   1791\u001b[0m \u001b[38;5;124;03m    Read SQL query into a DataFrame.\u001b[39;00m\n\u001b[0;32m   1792\u001b[0m \n\u001b[1;32m   (...)\u001b[0m\n\u001b[0;32m   1834\u001b[0m \n\u001b[0;32m   1835\u001b[0m \u001b[38;5;124;03m    \"\"\"\u001b[39;00m\n\u001b[1;32m-> 1836\u001b[0m     result \u001b[38;5;241m=\u001b[39m \u001b[38;5;28mself\u001b[39m\u001b[38;5;241m.\u001b[39mexecute(sql, params)\n\u001b[0;32m   1837\u001b[0m     columns \u001b[38;5;241m=\u001b[39m result\u001b[38;5;241m.\u001b[39mkeys()\n\u001b[0;32m   1839\u001b[0m     \u001b[38;5;28;01mif\u001b[39;00m chunksize \u001b[38;5;129;01mis\u001b[39;00m \u001b[38;5;129;01mnot\u001b[39;00m \u001b[38;5;28;01mNone\u001b[39;00m:\n",
      "File \u001b[1;32m~\\miniconda3\\Lib\\site-packages\\pandas\\io\\sql.py:1659\u001b[0m, in \u001b[0;36mSQLDatabase.execute\u001b[1;34m(self, sql, params)\u001b[0m\n\u001b[0;32m   1657\u001b[0m args \u001b[38;5;241m=\u001b[39m [] \u001b[38;5;28;01mif\u001b[39;00m params \u001b[38;5;129;01mis\u001b[39;00m \u001b[38;5;28;01mNone\u001b[39;00m \u001b[38;5;28;01melse\u001b[39;00m [params]\n\u001b[0;32m   1658\u001b[0m \u001b[38;5;28;01mif\u001b[39;00m \u001b[38;5;28misinstance\u001b[39m(sql, \u001b[38;5;28mstr\u001b[39m):\n\u001b[1;32m-> 1659\u001b[0m     \u001b[38;5;28;01mreturn\u001b[39;00m \u001b[38;5;28mself\u001b[39m\u001b[38;5;241m.\u001b[39mcon\u001b[38;5;241m.\u001b[39mexec_driver_sql(sql, \u001b[38;5;241m*\u001b[39margs)\n\u001b[0;32m   1660\u001b[0m \u001b[38;5;28;01mreturn\u001b[39;00m \u001b[38;5;28mself\u001b[39m\u001b[38;5;241m.\u001b[39mcon\u001b[38;5;241m.\u001b[39mexecute(sql, \u001b[38;5;241m*\u001b[39margs)\n",
      "File \u001b[1;32m~\\miniconda3\\Lib\\site-packages\\sqlalchemy\\engine\\base.py:1783\u001b[0m, in \u001b[0;36mConnection.exec_driver_sql\u001b[1;34m(self, statement, parameters, execution_options)\u001b[0m\n\u001b[0;32m   1778\u001b[0m execution_options \u001b[38;5;241m=\u001b[39m \u001b[38;5;28mself\u001b[39m\u001b[38;5;241m.\u001b[39m_execution_options\u001b[38;5;241m.\u001b[39mmerge_with(\n\u001b[0;32m   1779\u001b[0m     execution_options\n\u001b[0;32m   1780\u001b[0m )\n\u001b[0;32m   1782\u001b[0m dialect \u001b[38;5;241m=\u001b[39m \u001b[38;5;28mself\u001b[39m\u001b[38;5;241m.\u001b[39mdialect\n\u001b[1;32m-> 1783\u001b[0m ret \u001b[38;5;241m=\u001b[39m \u001b[38;5;28mself\u001b[39m\u001b[38;5;241m.\u001b[39m_execute_context(\n\u001b[0;32m   1784\u001b[0m     dialect,\n\u001b[0;32m   1785\u001b[0m     dialect\u001b[38;5;241m.\u001b[39mexecution_ctx_cls\u001b[38;5;241m.\u001b[39m_init_statement,\n\u001b[0;32m   1786\u001b[0m     statement,\n\u001b[0;32m   1787\u001b[0m     \u001b[38;5;28;01mNone\u001b[39;00m,\n\u001b[0;32m   1788\u001b[0m     execution_options,\n\u001b[0;32m   1789\u001b[0m     statement,\n\u001b[0;32m   1790\u001b[0m     distilled_parameters,\n\u001b[0;32m   1791\u001b[0m )\n\u001b[0;32m   1793\u001b[0m \u001b[38;5;28;01mreturn\u001b[39;00m ret\n",
      "File \u001b[1;32m~\\miniconda3\\Lib\\site-packages\\sqlalchemy\\engine\\base.py:1850\u001b[0m, in \u001b[0;36mConnection._execute_context\u001b[1;34m(self, dialect, constructor, statement, parameters, execution_options, *args, **kw)\u001b[0m\n\u001b[0;32m   1848\u001b[0m     \u001b[38;5;28;01mreturn\u001b[39;00m \u001b[38;5;28mself\u001b[39m\u001b[38;5;241m.\u001b[39m_exec_insertmany_context(dialect, context)\n\u001b[0;32m   1849\u001b[0m \u001b[38;5;28;01melse\u001b[39;00m:\n\u001b[1;32m-> 1850\u001b[0m     \u001b[38;5;28;01mreturn\u001b[39;00m \u001b[38;5;28mself\u001b[39m\u001b[38;5;241m.\u001b[39m_exec_single_context(\n\u001b[0;32m   1851\u001b[0m         dialect, context, statement, parameters\n\u001b[0;32m   1852\u001b[0m     )\n",
      "File \u001b[1;32m~\\miniconda3\\Lib\\site-packages\\sqlalchemy\\engine\\base.py:1990\u001b[0m, in \u001b[0;36mConnection._exec_single_context\u001b[1;34m(self, dialect, context, statement, parameters)\u001b[0m\n\u001b[0;32m   1987\u001b[0m     result \u001b[38;5;241m=\u001b[39m context\u001b[38;5;241m.\u001b[39m_setup_result_proxy()\n\u001b[0;32m   1989\u001b[0m \u001b[38;5;28;01mexcept\u001b[39;00m \u001b[38;5;167;01mBaseException\u001b[39;00m \u001b[38;5;28;01mas\u001b[39;00m e:\n\u001b[1;32m-> 1990\u001b[0m     \u001b[38;5;28mself\u001b[39m\u001b[38;5;241m.\u001b[39m_handle_dbapi_exception(\n\u001b[0;32m   1991\u001b[0m         e, str_statement, effective_parameters, cursor, context\n\u001b[0;32m   1992\u001b[0m     )\n\u001b[0;32m   1994\u001b[0m \u001b[38;5;28;01mreturn\u001b[39;00m result\n",
      "File \u001b[1;32m~\\miniconda3\\Lib\\site-packages\\sqlalchemy\\engine\\base.py:2357\u001b[0m, in \u001b[0;36mConnection._handle_dbapi_exception\u001b[1;34m(self, e, statement, parameters, cursor, context, is_sub_exec)\u001b[0m\n\u001b[0;32m   2355\u001b[0m \u001b[38;5;28;01melif\u001b[39;00m should_wrap:\n\u001b[0;32m   2356\u001b[0m     \u001b[38;5;28;01massert\u001b[39;00m sqlalchemy_exception \u001b[38;5;129;01mis\u001b[39;00m \u001b[38;5;129;01mnot\u001b[39;00m \u001b[38;5;28;01mNone\u001b[39;00m\n\u001b[1;32m-> 2357\u001b[0m     \u001b[38;5;28;01mraise\u001b[39;00m sqlalchemy_exception\u001b[38;5;241m.\u001b[39mwith_traceback(exc_info[\u001b[38;5;241m2\u001b[39m]) \u001b[38;5;28;01mfrom\u001b[39;00m \u001b[38;5;21;01me\u001b[39;00m\n\u001b[0;32m   2358\u001b[0m \u001b[38;5;28;01melse\u001b[39;00m:\n\u001b[0;32m   2359\u001b[0m     \u001b[38;5;28;01massert\u001b[39;00m exc_info[\u001b[38;5;241m1\u001b[39m] \u001b[38;5;129;01mis\u001b[39;00m \u001b[38;5;129;01mnot\u001b[39;00m \u001b[38;5;28;01mNone\u001b[39;00m\n",
      "File \u001b[1;32m~\\miniconda3\\Lib\\site-packages\\sqlalchemy\\engine\\base.py:1971\u001b[0m, in \u001b[0;36mConnection._exec_single_context\u001b[1;34m(self, dialect, context, statement, parameters)\u001b[0m\n\u001b[0;32m   1969\u001b[0m                 \u001b[38;5;28;01mbreak\u001b[39;00m\n\u001b[0;32m   1970\u001b[0m     \u001b[38;5;28;01mif\u001b[39;00m \u001b[38;5;129;01mnot\u001b[39;00m evt_handled:\n\u001b[1;32m-> 1971\u001b[0m         \u001b[38;5;28mself\u001b[39m\u001b[38;5;241m.\u001b[39mdialect\u001b[38;5;241m.\u001b[39mdo_execute(\n\u001b[0;32m   1972\u001b[0m             cursor, str_statement, effective_parameters, context\n\u001b[0;32m   1973\u001b[0m         )\n\u001b[0;32m   1975\u001b[0m \u001b[38;5;28;01mif\u001b[39;00m \u001b[38;5;28mself\u001b[39m\u001b[38;5;241m.\u001b[39m_has_events \u001b[38;5;129;01mor\u001b[39;00m \u001b[38;5;28mself\u001b[39m\u001b[38;5;241m.\u001b[39mengine\u001b[38;5;241m.\u001b[39m_has_events:\n\u001b[0;32m   1976\u001b[0m     \u001b[38;5;28mself\u001b[39m\u001b[38;5;241m.\u001b[39mdispatch\u001b[38;5;241m.\u001b[39mafter_cursor_execute(\n\u001b[0;32m   1977\u001b[0m         \u001b[38;5;28mself\u001b[39m,\n\u001b[0;32m   1978\u001b[0m         cursor,\n\u001b[1;32m   (...)\u001b[0m\n\u001b[0;32m   1982\u001b[0m         context\u001b[38;5;241m.\u001b[39mexecutemany,\n\u001b[0;32m   1983\u001b[0m     )\n",
      "File \u001b[1;32m~\\miniconda3\\Lib\\site-packages\\sqlalchemy\\engine\\default.py:919\u001b[0m, in \u001b[0;36mDefaultDialect.do_execute\u001b[1;34m(self, cursor, statement, parameters, context)\u001b[0m\n\u001b[0;32m    918\u001b[0m \u001b[38;5;28;01mdef\u001b[39;00m \u001b[38;5;21mdo_execute\u001b[39m(\u001b[38;5;28mself\u001b[39m, cursor, statement, parameters, context\u001b[38;5;241m=\u001b[39m\u001b[38;5;28;01mNone\u001b[39;00m):\n\u001b[1;32m--> 919\u001b[0m     cursor\u001b[38;5;241m.\u001b[39mexecute(statement, parameters)\n",
      "File \u001b[1;32m~\\miniconda3\\Lib\\site-packages\\MySQLdb\\cursors.py:179\u001b[0m, in \u001b[0;36mBaseCursor.execute\u001b[1;34m(self, query, args)\u001b[0m\n\u001b[0;32m    176\u001b[0m mogrified_query \u001b[38;5;241m=\u001b[39m \u001b[38;5;28mself\u001b[39m\u001b[38;5;241m.\u001b[39m_mogrify(query, args)\n\u001b[0;32m    178\u001b[0m \u001b[38;5;28;01massert\u001b[39;00m \u001b[38;5;28misinstance\u001b[39m(mogrified_query, (\u001b[38;5;28mbytes\u001b[39m, \u001b[38;5;28mbytearray\u001b[39m))\n\u001b[1;32m--> 179\u001b[0m res \u001b[38;5;241m=\u001b[39m \u001b[38;5;28mself\u001b[39m\u001b[38;5;241m.\u001b[39m_query(mogrified_query)\n\u001b[0;32m    180\u001b[0m \u001b[38;5;28;01mreturn\u001b[39;00m res\n",
      "File \u001b[1;32m~\\miniconda3\\Lib\\site-packages\\MySQLdb\\cursors.py:330\u001b[0m, in \u001b[0;36mBaseCursor._query\u001b[1;34m(self, q)\u001b[0m\n\u001b[0;32m    328\u001b[0m \u001b[38;5;28mself\u001b[39m\u001b[38;5;241m.\u001b[39mrowcount \u001b[38;5;241m=\u001b[39m \u001b[38;5;28;01mNone\u001b[39;00m\n\u001b[0;32m    329\u001b[0m \u001b[38;5;28mself\u001b[39m\u001b[38;5;241m.\u001b[39mlastrowid \u001b[38;5;241m=\u001b[39m \u001b[38;5;28;01mNone\u001b[39;00m\n\u001b[1;32m--> 330\u001b[0m db\u001b[38;5;241m.\u001b[39mquery(q)\n\u001b[0;32m    331\u001b[0m \u001b[38;5;28mself\u001b[39m\u001b[38;5;241m.\u001b[39m_do_get_result(db)\n\u001b[0;32m    332\u001b[0m \u001b[38;5;28mself\u001b[39m\u001b[38;5;241m.\u001b[39m_post_get_result()\n",
      "File \u001b[1;32m~\\miniconda3\\Lib\\site-packages\\MySQLdb\\connections.py:261\u001b[0m, in \u001b[0;36mConnection.query\u001b[1;34m(self, query)\u001b[0m\n\u001b[0;32m    259\u001b[0m \u001b[38;5;28;01mif\u001b[39;00m \u001b[38;5;28misinstance\u001b[39m(query, \u001b[38;5;28mbytearray\u001b[39m):\n\u001b[0;32m    260\u001b[0m     query \u001b[38;5;241m=\u001b[39m \u001b[38;5;28mbytes\u001b[39m(query)\n\u001b[1;32m--> 261\u001b[0m _mysql\u001b[38;5;241m.\u001b[39mconnection\u001b[38;5;241m.\u001b[39mquery(\u001b[38;5;28mself\u001b[39m, query)\n",
      "\u001b[1;31mProgrammingError\u001b[0m: (MySQLdb.ProgrammingError) (1146, \"Table '2nd_db5.customers' doesn't exist\")\n[SQL: select * from customers]\n(Background on this error at: https://sqlalche.me/e/20/f405)"
     ]
    }
   ],
   "source": [
    "import pandas as pd\n",
    "df=pd.read_sql_query(\"select * from customers\", con=engine)[1:]\n",
    "df"
   ]
  },
  {
   "cell_type": "code",
   "execution_count": 58,
   "id": "82ef3847-5e4d-466f-82c0-353fa22a0af0",
   "metadata": {},
   "outputs": [],
   "source": [
    "import pickle\n",
    "with open('./clustering_result.pkl', 'rb') as f:\n",
    "    clustering = pickle.load(f)"
   ]
  },
  {
   "cell_type": "code",
   "execution_count": 59,
   "id": "a4debc23-3f04-4f66-af40-b86219d62bc8",
   "metadata": {},
   "outputs": [
    {
     "data": {
      "text/plain": [
       "array([[2.64000000e+02, 3.60000000e+02, 0.00000000e+00, 2.00000000e+00],\n",
       "       [6.02000000e+02, 8.28000000e+02, 5.68115028e-02, 2.00000000e+00],\n",
       "       [5.60000000e+02, 8.35000000e+02, 8.34554235e-02, 2.00000000e+00],\n",
       "       ...,\n",
       "       [1.92100000e+03, 1.99500000e+03, 6.30623476e+00, 5.87000000e+02],\n",
       "       [1.99200000e+03, 1.99600000e+03, 7.29973387e+00, 9.13000000e+02],\n",
       "       [1.99300000e+03, 1.99700000e+03, 8.97500474e+00, 1.00000000e+03]])"
      ]
     },
     "execution_count": 59,
     "metadata": {},
     "output_type": "execute_result"
    }
   ],
   "source": [
    "clustering"
   ]
  },
  {
   "cell_type": "code",
   "execution_count": 70,
   "id": "010db51d-3c66-4318-9f99-32341863a2b2",
   "metadata": {},
   "outputs": [
    {
     "data": {
      "text/plain": [
       "(999, 4)"
      ]
     },
     "execution_count": 70,
     "metadata": {},
     "output_type": "execute_result"
    }
   ],
   "source": [
    "clustering.shape"
   ]
  },
  {
   "cell_type": "code",
   "execution_count": 60,
   "id": "9593f2fa-aa2b-43d4-b535-aedba86a94fb",
   "metadata": {},
   "outputs": [],
   "source": [
    "# 덴드로그램을 그리는 함수\n",
    "def plot_dendrogram(clustering, labels):\n",
    "    plt.figure(figsize=(10, 7))\n",
    "    dendrogram(clustering, labels=labels, orientation='right')\n",
    "    plt.xlabel('Distance')\n",
    "    plt.ylabel('Document')\n",
    "    plt.title('Hierarchical Clustering Dendrogram')\n",
    "    plt.show()"
   ]
  },
  {
   "cell_type": "code",
   "execution_count": null,
   "id": "dee2c838-3809-4666-9b61-a0fc93fd1697",
   "metadata": {},
   "outputs": [],
   "source": [
    "plot_dendrogram(clustering"
   ]
  }
 ],
 "metadata": {
  "kernelspec": {
   "display_name": "Python 3 (ipykernel)",
   "language": "python",
   "name": "python3"
  },
  "language_info": {
   "codemirror_mode": {
    "name": "ipython",
    "version": 3
   },
   "file_extension": ".py",
   "mimetype": "text/x-python",
   "name": "python",
   "nbconvert_exporter": "python",
   "pygments_lexer": "ipython3",
   "version": "3.12.1"
  }
 },
 "nbformat": 4,
 "nbformat_minor": 5
}
