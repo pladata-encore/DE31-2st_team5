{
 "cells": [
  {
   "cell_type": "markdown",
   "metadata": {},
   "source": [
    "# Dataset 통합\n",
    "## Target:\n",
    "- bbc: https://www.kaggle.com/datasets/hgultekin/bbcnewsarchive?select=bbc-news-data.csv\n",
    "- cnn: https://www.kaggle.com/datasets/hadasu92/cnn-articles-after-basic-cleaning\n",
    "- space news: https://www.kaggle.com/datasets/patrickfleith/space-news-dataset\n",
    "- us-financial news: https://www.kaggle.com/datasets/jeet2016/us-financial-news-articles\n",
    "- sci-kit learn newspapaer set\n",
    "\n",
    "## data scale:\n",
    "- bbc: 100%\n",
    "- cnn: 100%\n",
    "- space news: 50%\n",
    "- us-financial: 5%"
   ]
  },
  {
   "cell_type": "code",
   "execution_count": 1,
   "metadata": {},
   "outputs": [],
   "source": [
    "import pandas as pd\n",
    "import pickle\n",
    "import json\n",
    "import os\n",
    "from tqdm import tqdm\n",
    "from urllib import parse\n"
   ]
  },
  {
   "cell_type": "code",
   "execution_count": 2,
   "metadata": {},
   "outputs": [
    {
     "data": {
      "text/plain": [
       "'d:\\\\yjy\\\\workspace\\\\project2_clustering\\\\code'"
      ]
     },
     "execution_count": 2,
     "metadata": {},
     "output_type": "execute_result"
    }
   ],
   "source": [
    "os.getcwd()"
   ]
  },
  {
   "cell_type": "code",
   "execution_count": 18,
   "metadata": {},
   "outputs": [],
   "source": [
    "new_columns = ['title', 'context']\n",
    "new_order = ['dataSource', 'title', 'context']"
   ]
  },
  {
   "cell_type": "markdown",
   "metadata": {},
   "source": [
    "## 1. BBC"
   ]
  },
  {
   "cell_type": "code",
   "execution_count": 11,
   "metadata": {},
   "outputs": [],
   "source": [
    "bbc_df = pd.read_csv('./../data_/bbc/bbc-news-data.csv', sep='\\t')"
   ]
  },
  {
   "cell_type": "code",
   "execution_count": 12,
   "metadata": {},
   "outputs": [
    {
     "name": "stdout",
     "output_type": "stream",
     "text": [
      "<class 'pandas.core.frame.DataFrame'>\n",
      "RangeIndex: 2225 entries, 0 to 2224\n",
      "Data columns (total 4 columns):\n",
      " #   Column    Non-Null Count  Dtype \n",
      "---  ------    --------------  ----- \n",
      " 0   category  2225 non-null   object\n",
      " 1   filename  2225 non-null   object\n",
      " 2   title     2225 non-null   object\n",
      " 3   content   2225 non-null   object\n",
      "dtypes: object(4)\n",
      "memory usage: 69.7+ KB\n"
     ]
    }
   ],
   "source": [
    "bbc_df.info()"
   ]
  },
  {
   "cell_type": "code",
   "execution_count": 13,
   "metadata": {},
   "outputs": [],
   "source": [
    "bbc_df = bbc_df[['title', 'content']]"
   ]
  },
  {
   "cell_type": "code",
   "execution_count": 21,
   "metadata": {},
   "outputs": [
    {
     "data": {
      "text/html": [
       "<div>\n",
       "<style scoped>\n",
       "    .dataframe tbody tr th:only-of-type {\n",
       "        vertical-align: middle;\n",
       "    }\n",
       "\n",
       "    .dataframe tbody tr th {\n",
       "        vertical-align: top;\n",
       "    }\n",
       "\n",
       "    .dataframe thead th {\n",
       "        text-align: right;\n",
       "    }\n",
       "</style>\n",
       "<table border=\"1\" class=\"dataframe\">\n",
       "  <thead>\n",
       "    <tr style=\"text-align: right;\">\n",
       "      <th></th>\n",
       "      <th>dataSource</th>\n",
       "      <th>title</th>\n",
       "      <th>context</th>\n",
       "    </tr>\n",
       "  </thead>\n",
       "  <tbody>\n",
       "    <tr>\n",
       "      <th>0</th>\n",
       "      <td>BBC</td>\n",
       "      <td>Ad sales boost Time Warner profit</td>\n",
       "      <td>Quarterly profits at US media giant TimeWarne...</td>\n",
       "    </tr>\n",
       "    <tr>\n",
       "      <th>1</th>\n",
       "      <td>BBC</td>\n",
       "      <td>Dollar gains on Greenspan speech</td>\n",
       "      <td>The dollar has hit its highest level against ...</td>\n",
       "    </tr>\n",
       "    <tr>\n",
       "      <th>2</th>\n",
       "      <td>BBC</td>\n",
       "      <td>Yukos unit buyer faces loan claim</td>\n",
       "      <td>The owners of embattled Russian oil giant Yuk...</td>\n",
       "    </tr>\n",
       "    <tr>\n",
       "      <th>3</th>\n",
       "      <td>BBC</td>\n",
       "      <td>High fuel prices hit BA's profits</td>\n",
       "      <td>British Airways has blamed high fuel prices f...</td>\n",
       "    </tr>\n",
       "    <tr>\n",
       "      <th>4</th>\n",
       "      <td>BBC</td>\n",
       "      <td>Pernod takeover talk lifts Domecq</td>\n",
       "      <td>Shares in UK drinks and food firm Allied Dome...</td>\n",
       "    </tr>\n",
       "    <tr>\n",
       "      <th>...</th>\n",
       "      <td>...</td>\n",
       "      <td>...</td>\n",
       "      <td>...</td>\n",
       "    </tr>\n",
       "    <tr>\n",
       "      <th>2219</th>\n",
       "      <td>BBC</td>\n",
       "      <td>New consoles promise big problems</td>\n",
       "      <td>Making games for future consoles will require...</td>\n",
       "    </tr>\n",
       "    <tr>\n",
       "      <th>2220</th>\n",
       "      <td>BBC</td>\n",
       "      <td>BT program to beat dialler scams</td>\n",
       "      <td>BT is introducing two initiatives to help bea...</td>\n",
       "    </tr>\n",
       "    <tr>\n",
       "      <th>2222</th>\n",
       "      <td>BBC</td>\n",
       "      <td>Be careful how you code</td>\n",
       "      <td>A new European directive could put software w...</td>\n",
       "    </tr>\n",
       "    <tr>\n",
       "      <th>2223</th>\n",
       "      <td>BBC</td>\n",
       "      <td>US cyber security chief resigns</td>\n",
       "      <td>The man making sure US computer networks are ...</td>\n",
       "    </tr>\n",
       "    <tr>\n",
       "      <th>2224</th>\n",
       "      <td>BBC</td>\n",
       "      <td>Losing yourself in online gaming</td>\n",
       "      <td>Online role playing games are time-consuming,...</td>\n",
       "    </tr>\n",
       "  </tbody>\n",
       "</table>\n",
       "<p>2127 rows × 3 columns</p>\n",
       "</div>"
      ],
      "text/plain": [
       "     dataSource                              title  \\\n",
       "0           BBC  Ad sales boost Time Warner profit   \n",
       "1           BBC   Dollar gains on Greenspan speech   \n",
       "2           BBC  Yukos unit buyer faces loan claim   \n",
       "3           BBC  High fuel prices hit BA's profits   \n",
       "4           BBC  Pernod takeover talk lifts Domecq   \n",
       "...         ...                                ...   \n",
       "2219        BBC  New consoles promise big problems   \n",
       "2220        BBC   BT program to beat dialler scams   \n",
       "2222        BBC            Be careful how you code   \n",
       "2223        BBC    US cyber security chief resigns   \n",
       "2224        BBC   Losing yourself in online gaming   \n",
       "\n",
       "                                                context  \n",
       "0      Quarterly profits at US media giant TimeWarne...  \n",
       "1      The dollar has hit its highest level against ...  \n",
       "2      The owners of embattled Russian oil giant Yuk...  \n",
       "3      British Airways has blamed high fuel prices f...  \n",
       "4      Shares in UK drinks and food firm Allied Dome...  \n",
       "...                                                 ...  \n",
       "2219   Making games for future consoles will require...  \n",
       "2220   BT is introducing two initiatives to help bea...  \n",
       "2222   A new European directive could put software w...  \n",
       "2223   The man making sure US computer networks are ...  \n",
       "2224   Online role playing games are time-consuming,...  \n",
       "\n",
       "[2127 rows x 3 columns]"
      ]
     },
     "execution_count": 21,
     "metadata": {},
     "output_type": "execute_result"
    }
   ],
   "source": [
    "bbc_df"
   ]
  },
  {
   "cell_type": "code",
   "execution_count": 15,
   "metadata": {},
   "outputs": [],
   "source": [
    "bbc_df.drop_duplicates(inplace=True)\n",
    "bbc_df.columns = new_columns"
   ]
  },
  {
   "cell_type": "code",
   "execution_count": 16,
   "metadata": {},
   "outputs": [],
   "source": [
    "bbc_df['dataSource'] = 'BBC'\n",
    "bbc_df = bbc_df[new_order]"
   ]
  },
  {
   "cell_type": "code",
   "execution_count": 22,
   "metadata": {},
   "outputs": [],
   "source": [
    "with open('./../data_/result_/bbc.pkl', 'wb') as f:\n",
    "    pickle.dump(bbc_df, f)"
   ]
  },
  {
   "cell_type": "markdown",
   "metadata": {},
   "source": [
    "## 2. CNN"
   ]
  },
  {
   "cell_type": "code",
   "execution_count": 23,
   "metadata": {},
   "outputs": [],
   "source": [
    "cnn_df1 = pd.read_csv('./../data_/cnn/CNN1.csv')\n",
    "cnn_df2 = pd.read_csv('./../data_/cnn/CNN2.csv')"
   ]
  },
  {
   "cell_type": "code",
   "execution_count": 24,
   "metadata": {},
   "outputs": [
    {
     "name": "stdout",
     "output_type": "stream",
     "text": [
      "<class 'pandas.core.frame.DataFrame'>\n",
      "RangeIndex: 4076 entries, 0 to 4075\n",
      "Data columns (total 11 columns):\n",
      " #   Column           Non-Null Count  Dtype \n",
      "---  ------           --------------  ----- \n",
      " 0   Index            4076 non-null   int64 \n",
      " 1   Author           4076 non-null   object\n",
      " 2   Date published   4076 non-null   object\n",
      " 3   Category         4076 non-null   object\n",
      " 4   Section          4076 non-null   object\n",
      " 5   Url              4076 non-null   object\n",
      " 6   Headline         4076 non-null   object\n",
      " 7   Description      4076 non-null   object\n",
      " 8   Keywords         4076 non-null   object\n",
      " 9   Second headline  4076 non-null   object\n",
      " 10  Article text     4076 non-null   object\n",
      "dtypes: int64(1), object(10)\n",
      "memory usage: 350.4+ KB\n"
     ]
    }
   ],
   "source": [
    "cnn_df1.info()"
   ]
  },
  {
   "cell_type": "code",
   "execution_count": 25,
   "metadata": {},
   "outputs": [
    {
     "name": "stdout",
     "output_type": "stream",
     "text": [
      "<class 'pandas.core.frame.DataFrame'>\n",
      "RangeIndex: 37949 entries, 0 to 37948\n",
      "Data columns (total 11 columns):\n",
      " #   Column           Non-Null Count  Dtype \n",
      "---  ------           --------------  ----- \n",
      " 0   Index            37949 non-null  int64 \n",
      " 1   Author           37949 non-null  object\n",
      " 2   Date published   37949 non-null  object\n",
      " 3   Category         37949 non-null  object\n",
      " 4   Section          37949 non-null  object\n",
      " 5   Url              37949 non-null  object\n",
      " 6   Headline         37949 non-null  object\n",
      " 7   Description      37949 non-null  object\n",
      " 8   Keywords         37949 non-null  object\n",
      " 9   Second headline  37949 non-null  object\n",
      " 10  Article text     37940 non-null  object\n",
      "dtypes: int64(1), object(10)\n",
      "memory usage: 3.2+ MB\n"
     ]
    }
   ],
   "source": [
    "cnn_df2.info()"
   ]
  },
  {
   "cell_type": "code",
   "execution_count": 28,
   "metadata": {},
   "outputs": [],
   "source": [
    "cnn_df1 = cnn_df1[['Headline', 'Article text']]\n",
    "cnn_df2 = cnn_df2[['Headline', 'Article text']]\n",
    "cnn_df = pd.concat([cnn_df1, cnn_df2])\n",
    "cnn_df.drop_duplicates(inplace=True)\n",
    "cnn_df.columns = new_columns"
   ]
  },
  {
   "cell_type": "code",
   "execution_count": 29,
   "metadata": {},
   "outputs": [],
   "source": [
    "cnn_df['dataSource'] = 'CNN'\n",
    "cnn_df = cnn_df[new_order]"
   ]
  },
  {
   "cell_type": "code",
   "execution_count": 30,
   "metadata": {},
   "outputs": [
    {
     "data": {
      "text/html": [
       "<div>\n",
       "<style scoped>\n",
       "    .dataframe tbody tr th:only-of-type {\n",
       "        vertical-align: middle;\n",
       "    }\n",
       "\n",
       "    .dataframe tbody tr th {\n",
       "        vertical-align: top;\n",
       "    }\n",
       "\n",
       "    .dataframe thead th {\n",
       "        text-align: right;\n",
       "    }\n",
       "</style>\n",
       "<table border=\"1\" class=\"dataframe\">\n",
       "  <thead>\n",
       "    <tr style=\"text-align: right;\">\n",
       "      <th></th>\n",
       "      <th>dataSource</th>\n",
       "      <th>title</th>\n",
       "      <th>context</th>\n",
       "    </tr>\n",
       "  </thead>\n",
       "  <tbody>\n",
       "    <tr>\n",
       "      <th>0</th>\n",
       "      <td>CNN</td>\n",
       "      <td>There's a shortage of truckers, but TuSimple t...</td>\n",
       "      <td>(CNN)Right now, there's a shortage of truck d...</td>\n",
       "    </tr>\n",
       "    <tr>\n",
       "      <th>1</th>\n",
       "      <td>CNN</td>\n",
       "      <td>Bioservo's robotic 'Ironhand' could protect fa...</td>\n",
       "      <td>(CNN)Working in a factory or warehouse can me...</td>\n",
       "    </tr>\n",
       "    <tr>\n",
       "      <th>2</th>\n",
       "      <td>CNN</td>\n",
       "      <td>This swarm of robots gets smarter the more it ...</td>\n",
       "      <td>(CNN)In a Hong Kong warehouse, a swarm of aut...</td>\n",
       "    </tr>\n",
       "    <tr>\n",
       "      <th>3</th>\n",
       "      <td>CNN</td>\n",
       "      <td>Russia is no longer an option for investors. T...</td>\n",
       "      <td>New York (CNN Business)For many years, the wor...</td>\n",
       "    </tr>\n",
       "    <tr>\n",
       "      <th>4</th>\n",
       "      <td>CNN</td>\n",
       "      <td>Russian energy investment ban part of new EU s...</td>\n",
       "      <td>The European Union formally approved on Tuesda...</td>\n",
       "    </tr>\n",
       "    <tr>\n",
       "      <th>...</th>\n",
       "      <td>...</td>\n",
       "      <td>...</td>\n",
       "      <td>...</td>\n",
       "    </tr>\n",
       "    <tr>\n",
       "      <th>37944</th>\n",
       "      <td>CNN</td>\n",
       "      <td>Russian President Vladimir Putin is being stri...</td>\n",
       "      <td>(CNN)Russian President Vladimir Putin has bee...</td>\n",
       "    </tr>\n",
       "    <tr>\n",
       "      <th>37945</th>\n",
       "      <td>CNN</td>\n",
       "      <td>On NATO's doorstep, a former tourist hotspot i...</td>\n",
       "      <td>Lviv, Ukraine (CNN)A long line of men snakes o...</td>\n",
       "    </tr>\n",
       "    <tr>\n",
       "      <th>37946</th>\n",
       "      <td>CNN</td>\n",
       "      <td>MLB is postponing Opening Day after owners and...</td>\n",
       "      <td>(CNN)Major League Baseball (MLB) is postponin...</td>\n",
       "    </tr>\n",
       "    <tr>\n",
       "      <th>37947</th>\n",
       "      <td>CNN</td>\n",
       "      <td>Mikhail Gorbachev Fast Facts - CNN</td>\n",
       "      <td>Here's a look at the life of Mikhail Gorbachev...</td>\n",
       "    </tr>\n",
       "    <tr>\n",
       "      <th>37948</th>\n",
       "      <td>CNN</td>\n",
       "      <td>Duchess Camilla Fast Facts - CNN</td>\n",
       "      <td>(CNN)Here's a look at the life of Her Royal H...</td>\n",
       "    </tr>\n",
       "  </tbody>\n",
       "</table>\n",
       "<p>37990 rows × 3 columns</p>\n",
       "</div>"
      ],
      "text/plain": [
       "      dataSource                                              title  \\\n",
       "0            CNN  There's a shortage of truckers, but TuSimple t...   \n",
       "1            CNN  Bioservo's robotic 'Ironhand' could protect fa...   \n",
       "2            CNN  This swarm of robots gets smarter the more it ...   \n",
       "3            CNN  Russia is no longer an option for investors. T...   \n",
       "4            CNN  Russian energy investment ban part of new EU s...   \n",
       "...          ...                                                ...   \n",
       "37944        CNN  Russian President Vladimir Putin is being stri...   \n",
       "37945        CNN  On NATO's doorstep, a former tourist hotspot i...   \n",
       "37946        CNN  MLB is postponing Opening Day after owners and...   \n",
       "37947        CNN                 Mikhail Gorbachev Fast Facts - CNN   \n",
       "37948        CNN                   Duchess Camilla Fast Facts - CNN   \n",
       "\n",
       "                                                 context  \n",
       "0       (CNN)Right now, there's a shortage of truck d...  \n",
       "1       (CNN)Working in a factory or warehouse can me...  \n",
       "2       (CNN)In a Hong Kong warehouse, a swarm of aut...  \n",
       "3      New York (CNN Business)For many years, the wor...  \n",
       "4      The European Union formally approved on Tuesda...  \n",
       "...                                                  ...  \n",
       "37944   (CNN)Russian President Vladimir Putin has bee...  \n",
       "37945  Lviv, Ukraine (CNN)A long line of men snakes o...  \n",
       "37946   (CNN)Major League Baseball (MLB) is postponin...  \n",
       "37947  Here's a look at the life of Mikhail Gorbachev...  \n",
       "37948   (CNN)Here's a look at the life of Her Royal H...  \n",
       "\n",
       "[37990 rows x 3 columns]"
      ]
     },
     "execution_count": 30,
     "metadata": {},
     "output_type": "execute_result"
    }
   ],
   "source": [
    "cnn_df"
   ]
  },
  {
   "cell_type": "code",
   "execution_count": 31,
   "metadata": {},
   "outputs": [],
   "source": [
    "with open('./../data_/result_/cnn.pkl', 'wb') as f:\n",
    "    pickle.dump(cnn_df, f)"
   ]
  },
  {
   "cell_type": "markdown",
   "metadata": {},
   "source": [
    "## 3. space_news"
   ]
  },
  {
   "cell_type": "code",
   "execution_count": 32,
   "metadata": {},
   "outputs": [],
   "source": [
    "space_news_df = pd.read_csv('./../data_/space_news/spacenews-202309.csv')"
   ]
  },
  {
   "cell_type": "code",
   "execution_count": 33,
   "metadata": {},
   "outputs": [
    {
     "name": "stdout",
     "output_type": "stream",
     "text": [
      "<class 'pandas.core.frame.DataFrame'>\n",
      "RangeIndex: 19584 entries, 0 to 19583\n",
      "Data columns (total 6 columns):\n",
      " #   Column       Non-Null Count  Dtype \n",
      "---  ------       --------------  ----- \n",
      " 0   title        19584 non-null  object\n",
      " 1   url          19584 non-null  object\n",
      " 2   content      19419 non-null  object\n",
      " 3   author       19584 non-null  object\n",
      " 4   date         19584 non-null  object\n",
      " 5   postexcerpt  18217 non-null  object\n",
      "dtypes: object(6)\n",
      "memory usage: 918.1+ KB\n"
     ]
    }
   ],
   "source": [
    "space_news_df.info()"
   ]
  },
  {
   "cell_type": "code",
   "execution_count": 34,
   "metadata": {},
   "outputs": [],
   "source": [
    "space_news_df = space_news_df[['title', 'content']]"
   ]
  },
  {
   "cell_type": "code",
   "execution_count": 35,
   "metadata": {},
   "outputs": [
    {
     "name": "stdout",
     "output_type": "stream",
     "text": [
      "<class 'pandas.core.frame.DataFrame'>\n",
      "RangeIndex: 19584 entries, 0 to 19583\n",
      "Data columns (total 2 columns):\n",
      " #   Column   Non-Null Count  Dtype \n",
      "---  ------   --------------  ----- \n",
      " 0   title    19584 non-null  object\n",
      " 1   content  19419 non-null  object\n",
      "dtypes: object(2)\n",
      "memory usage: 306.1+ KB\n"
     ]
    }
   ],
   "source": [
    "space_news_df.info()"
   ]
  },
  {
   "cell_type": "code",
   "execution_count": 36,
   "metadata": {},
   "outputs": [],
   "source": [
    "space_news_df.drop_duplicates(inplace=True)\n",
    "space_news_df.columns = new_columns"
   ]
  },
  {
   "cell_type": "code",
   "execution_count": 37,
   "metadata": {},
   "outputs": [],
   "source": [
    "space_news_df['dataSource'] = 'spaceNews'\n",
    "space_news_df = space_news_df[new_order]"
   ]
  },
  {
   "cell_type": "code",
   "execution_count": 38,
   "metadata": {},
   "outputs": [
    {
     "data": {
      "text/html": [
       "<div>\n",
       "<style scoped>\n",
       "    .dataframe tbody tr th:only-of-type {\n",
       "        vertical-align: middle;\n",
       "    }\n",
       "\n",
       "    .dataframe tbody tr th {\n",
       "        vertical-align: top;\n",
       "    }\n",
       "\n",
       "    .dataframe thead th {\n",
       "        text-align: right;\n",
       "    }\n",
       "</style>\n",
       "<table border=\"1\" class=\"dataframe\">\n",
       "  <thead>\n",
       "    <tr style=\"text-align: right;\">\n",
       "      <th></th>\n",
       "      <th>dataSource</th>\n",
       "      <th>title</th>\n",
       "      <th>context</th>\n",
       "    </tr>\n",
       "  </thead>\n",
       "  <tbody>\n",
       "    <tr>\n",
       "      <th>0</th>\n",
       "      <td>spaceNews</td>\n",
       "      <td>HawkEye 360 reaches inflection point on path t...</td>\n",
       "      <td>PARIS — With a recent funding round and growin...</td>\n",
       "    </tr>\n",
       "    <tr>\n",
       "      <th>1</th>\n",
       "      <td>spaceNews</td>\n",
       "      <td>SES Q&amp;A | Leveling up multi-orbit connectivity</td>\n",
       "      <td>Multi-orbit satellite operator SES is on the v...</td>\n",
       "    </tr>\n",
       "    <tr>\n",
       "      <th>2</th>\n",
       "      <td>spaceNews</td>\n",
       "      <td>Rapid Starlink iteration poses challenges for ...</td>\n",
       "      <td>TAMPA, Fla. — SpaceX’s ability to quickly chan...</td>\n",
       "    </tr>\n",
       "    <tr>\n",
       "      <th>3</th>\n",
       "      <td>spaceNews</td>\n",
       "      <td>Space Force to release guidelines for the use ...</td>\n",
       "      <td>WASHINGTON — U.S. Chief of Space Operations Ge...</td>\n",
       "    </tr>\n",
       "    <tr>\n",
       "      <th>4</th>\n",
       "      <td>spaceNews</td>\n",
       "      <td>ULA has ‘no issues’ with Space Force plan to s...</td>\n",
       "      <td>WASHINGTON — United Launch Alliance, one of ju...</td>\n",
       "    </tr>\n",
       "    <tr>\n",
       "      <th>...</th>\n",
       "      <td>...</td>\n",
       "      <td>...</td>\n",
       "      <td>...</td>\n",
       "    </tr>\n",
       "    <tr>\n",
       "      <th>19579</th>\n",
       "      <td>spaceNews</td>\n",
       "      <td>Kendall lays out Pentagon thinking on future s...</td>\n",
       "      <td>\\nFrank Kendall, the Pentagon’s top acquisitio...</td>\n",
       "    </tr>\n",
       "    <tr>\n",
       "      <th>19580</th>\n",
       "      <td>spaceNews</td>\n",
       "      <td>A larger share of NOAA’s declining space budge...</td>\n",
       "      <td>Updated Feb. 10 at 10:18 p.m. Eastern The U.S....</td>\n",
       "    </tr>\n",
       "    <tr>\n",
       "      <th>19581</th>\n",
       "      <td>spaceNews</td>\n",
       "      <td>Think Tank Turns Its Attention To Mars As 2016...</td>\n",
       "      <td>WASHINGTON — As NASA develops a long-term stra...</td>\n",
       "    </tr>\n",
       "    <tr>\n",
       "      <th>19582</th>\n",
       "      <td>spaceNews</td>\n",
       "      <td>House Bill Leaves Last Three JPSS Satellites i...</td>\n",
       "      <td>WASHINGTON — A spending bill the House passed ...</td>\n",
       "    </tr>\n",
       "    <tr>\n",
       "      <th>19583</th>\n",
       "      <td>spaceNews</td>\n",
       "      <td>Championing a Climate Change for Commercial We...</td>\n",
       "      <td>U.S. Rep. Jim Bridenstine (R-Okla.) is a growi...</td>\n",
       "    </tr>\n",
       "  </tbody>\n",
       "</table>\n",
       "<p>19569 rows × 3 columns</p>\n",
       "</div>"
      ],
      "text/plain": [
       "      dataSource                                              title  \\\n",
       "0      spaceNews  HawkEye 360 reaches inflection point on path t...   \n",
       "1      spaceNews     SES Q&A | Leveling up multi-orbit connectivity   \n",
       "2      spaceNews  Rapid Starlink iteration poses challenges for ...   \n",
       "3      spaceNews  Space Force to release guidelines for the use ...   \n",
       "4      spaceNews  ULA has ‘no issues’ with Space Force plan to s...   \n",
       "...          ...                                                ...   \n",
       "19579  spaceNews  Kendall lays out Pentagon thinking on future s...   \n",
       "19580  spaceNews  A larger share of NOAA’s declining space budge...   \n",
       "19581  spaceNews  Think Tank Turns Its Attention To Mars As 2016...   \n",
       "19582  spaceNews  House Bill Leaves Last Three JPSS Satellites i...   \n",
       "19583  spaceNews  Championing a Climate Change for Commercial We...   \n",
       "\n",
       "                                                 context  \n",
       "0      PARIS — With a recent funding round and growin...  \n",
       "1      Multi-orbit satellite operator SES is on the v...  \n",
       "2      TAMPA, Fla. — SpaceX’s ability to quickly chan...  \n",
       "3      WASHINGTON — U.S. Chief of Space Operations Ge...  \n",
       "4      WASHINGTON — United Launch Alliance, one of ju...  \n",
       "...                                                  ...  \n",
       "19579  \\nFrank Kendall, the Pentagon’s top acquisitio...  \n",
       "19580  Updated Feb. 10 at 10:18 p.m. Eastern The U.S....  \n",
       "19581  WASHINGTON — As NASA develops a long-term stra...  \n",
       "19582  WASHINGTON — A spending bill the House passed ...  \n",
       "19583  U.S. Rep. Jim Bridenstine (R-Okla.) is a growi...  \n",
       "\n",
       "[19569 rows x 3 columns]"
      ]
     },
     "execution_count": 38,
     "metadata": {},
     "output_type": "execute_result"
    }
   ],
   "source": [
    "space_news_df"
   ]
  },
  {
   "cell_type": "code",
   "execution_count": 39,
   "metadata": {},
   "outputs": [],
   "source": [
    "with open('./../data_/result_/space_news.pkl', 'wb') as f:\n",
    "    pickle.dump(space_news_df, f)"
   ]
  },
  {
   "cell_type": "markdown",
   "metadata": {},
   "source": [
    "## 4. US Financial"
   ]
  },
  {
   "cell_type": "code",
   "execution_count": 68,
   "metadata": {},
   "outputs": [],
   "source": [
    "us_financial_path = './../data_/us_financial'\n",
    "\n",
    "target_dir = [f for f in os.listdir(us_financial_path) if os.path.isdir(os.path.join(us_financial_path, f))]"
   ]
  },
  {
   "cell_type": "code",
   "execution_count": 69,
   "metadata": {},
   "outputs": [
    {
     "data": {
      "text/plain": [
       "['2018_01_112b52537b67659ad3609a234388c50a',\n",
       " '2018_02_112b52537b67659ad3609a234388c50a',\n",
       " '2018_03_112b52537b67659ad3609a234388c50a',\n",
       " '2018_04_112b52537b67659ad3609a234388c50a',\n",
       " '2018_05_112b52537b67659ad3609a234388c50a']"
      ]
     },
     "execution_count": 69,
     "metadata": {},
     "output_type": "execute_result"
    }
   ],
   "source": [
    "target_dir"
   ]
  },
  {
   "cell_type": "code",
   "execution_count": 107,
   "metadata": {},
   "outputs": [],
   "source": [
    "def load_josn_data(file_path, files_name):\n",
    "    path = os.path.join(file_path, files_name)\n",
    "    with open(path, 'r', encoding='utf-8') as f:\n",
    "        data = json.load(f)\n",
    "    \n",
    "    return data['title'], data['text']"
   ]
  },
  {
   "cell_type": "code",
   "execution_count": 108,
   "metadata": {},
   "outputs": [],
   "source": [
    "def get_us_financial_df(file_path, file_names):\n",
    "    columns_set = ['dataSource', 'title', 'context']\n",
    "    temp_df = pd.DataFrame(columns = columns_set)\n",
    "\n",
    "    for file in tqdm(file_names):\n",
    "        title, context = load_josn_data(file_path, file)\n",
    "        temp_data_df = pd.DataFrame([{'dataSource': 'us-financial', 'title': title, 'context': context}])\n",
    "        temp_df = pd.concat([temp_df, temp_data_df])\n",
    "    \n",
    "    return temp_df"
   ]
  },
  {
   "cell_type": "code",
   "execution_count": 111,
   "metadata": {},
   "outputs": [
    {
     "name": "stderr",
     "output_type": "stream",
     "text": [
      "100%|██████████| 57802/57802 [13:11<00:00, 73.00it/s] \n",
      "100%|██████████| 57802/57802 [02:40<00:00, 360.28it/s]\n",
      "100%|██████████| 64592/64592 [22:39<00:00, 47.51it/s]\n",
      "100%|██████████| 64592/64592 [06:35<00:00, 163.49it/s]\n",
      "100%|██████████| 57456/57456 [21:24<00:00, 44.74it/s]\n",
      "100%|██████████| 57456/57456 [02:45<00:00, 346.60it/s]\n",
      "100%|██████████| 63245/63245 [13:36<00:00, 77.45it/s] \n",
      "100%|██████████| 63245/63245 [06:18<00:00, 167.10it/s]\n",
      "100%|██████████| 63147/63147 [13:50<00:00, 76.04it/s] \n",
      "100%|██████████| 63147/63147 [02:59<00:00, 352.02it/s] \n"
     ]
    }
   ],
   "source": [
    "for i, dir in enumerate(target_dir):\n",
    "    file_path = os.path.join(us_financial_path, dir)\n",
    "    target_files = [f for f in os.listdir(file_path) if os.path.isfile(os.path.join(file_path, f))]\n",
    "\n",
    "    tmp_df = get_us_financial_df(file_path, target_files)\n",
    "    tmp_df.drop_duplicates(inplace=True)\n",
    "    \n",
    "    with open(f'./../data_/result_/us_financial_{i}.pkl', 'wb') as f:\n",
    "        pickle.dump(get_us_financial_df(file_path, target_files), f)"
   ]
  },
  {
   "cell_type": "markdown",
   "metadata": {},
   "source": [
    "## 5. data file to DB"
   ]
  },
  {
   "cell_type": "code",
   "execution_count": 65,
   "metadata": {},
   "outputs": [],
   "source": [
    "from sqlalchemy import create_engine, MetaData, Table, Column, Integer, String, Float, BigInteger, DateTime, Date, Text, CHAR, String\n",
    "from sqlalchemy.dialects.mysql import LONGTEXT\n",
    "import sqlalchemy\n",
    "from urllib import parse\n",
    "\n",
    "user = 'team5'\n",
    "password = 'encore5@#'\n",
    "host= '43.202.5.70'\n",
    "port = 3306\n",
    "database = '2nd_db5'\n",
    "password = parse.quote_plus(password)\n",
    "engine = sqlalchemy.create_engine(f\"mysql://{user}:{password}@{host}:{port}/{database}\")"
   ]
  },
  {
   "cell_type": "code",
   "execution_count": 40,
   "metadata": {},
   "outputs": [],
   "source": [
    "result_path = './../data_/result_'\n",
    "pkl_files = [f for f in os.listdir(result_path) if os.path.isfile(os.path.join(result_path, f))]"
   ]
  },
  {
   "cell_type": "code",
   "execution_count": 41,
   "metadata": {},
   "outputs": [
    {
     "data": {
      "text/plain": [
       "['bbc.pkl',\n",
       " 'cnn.pkl',\n",
       " 'space_news.pkl',\n",
       " 'us_financial_0.pkl',\n",
       " 'us_financial_1.pkl',\n",
       " 'us_financial_2.pkl',\n",
       " 'us_financial_3.pkl',\n",
       " 'us_financial_4.pkl']"
      ]
     },
     "execution_count": 41,
     "metadata": {},
     "output_type": "execute_result"
    }
   ],
   "source": [
    "pkl_files"
   ]
  },
  {
   "cell_type": "code",
   "execution_count": 42,
   "metadata": {},
   "outputs": [],
   "source": [
    "pkl_list = [os.path.join(result_path, pkl_name) for pkl_name in pkl_files]"
   ]
  },
  {
   "cell_type": "code",
   "execution_count": 43,
   "metadata": {},
   "outputs": [
    {
     "data": {
      "text/plain": [
       "['./../data_/result_\\\\bbc.pkl',\n",
       " './../data_/result_\\\\cnn.pkl',\n",
       " './../data_/result_\\\\space_news.pkl',\n",
       " './../data_/result_\\\\us_financial_0.pkl',\n",
       " './../data_/result_\\\\us_financial_1.pkl',\n",
       " './../data_/result_\\\\us_financial_2.pkl',\n",
       " './../data_/result_\\\\us_financial_3.pkl',\n",
       " './../data_/result_\\\\us_financial_4.pkl']"
      ]
     },
     "execution_count": 43,
     "metadata": {},
     "output_type": "execute_result"
    }
   ],
   "source": [
    "pkl_list"
   ]
  },
  {
   "cell_type": "code",
   "execution_count": 66,
   "metadata": {},
   "outputs": [],
   "source": [
    "metadata = MetaData()\n",
    "Table('english_news_lake', metadata, \n",
    "      Column('dataSource', String(20)),\n",
    "      Column('title', String(255)),\n",
    "      Column('context', LONGTEXT)\n",
    "      )\n",
    "\n",
    "metadata.create_all(engine)"
   ]
  },
  {
   "cell_type": "code",
   "execution_count": 56,
   "metadata": {},
   "outputs": [],
   "source": [
    "df_set = []\n",
    "for pkl_path in pkl_list[:3]:\n",
    "    with open(pkl_path, 'rb') as f:\n",
    "        df_set.append(pickle.load(f))\n",
    "\n",
    "total_news_df = pd.concat(df_set)"
   ]
  },
  {
   "cell_type": "code",
   "execution_count": 67,
   "metadata": {},
   "outputs": [
    {
     "data": {
      "text/plain": [
       "59686"
      ]
     },
     "execution_count": 67,
     "metadata": {},
     "output_type": "execute_result"
    }
   ],
   "source": [
    "total_news_df.to_sql(\"english_news_lake\",  if_exists='append', con=engine, index=False)"
   ]
  },
  {
   "cell_type": "code",
   "execution_count": 68,
   "metadata": {},
   "outputs": [
    {
     "data": {
      "text/html": [
       "<div>\n",
       "<style scoped>\n",
       "    .dataframe tbody tr th:only-of-type {\n",
       "        vertical-align: middle;\n",
       "    }\n",
       "\n",
       "    .dataframe tbody tr th {\n",
       "        vertical-align: top;\n",
       "    }\n",
       "\n",
       "    .dataframe thead th {\n",
       "        text-align: right;\n",
       "    }\n",
       "</style>\n",
       "<table border=\"1\" class=\"dataframe\">\n",
       "  <thead>\n",
       "    <tr style=\"text-align: right;\">\n",
       "      <th></th>\n",
       "      <th>dataSource</th>\n",
       "      <th>title</th>\n",
       "      <th>context</th>\n",
       "    </tr>\n",
       "  </thead>\n",
       "  <tbody>\n",
       "    <tr>\n",
       "      <th>0</th>\n",
       "      <td>BBC</td>\n",
       "      <td>Ad sales boost Time Warner profit</td>\n",
       "      <td>Quarterly profits at US media giant TimeWarne...</td>\n",
       "    </tr>\n",
       "    <tr>\n",
       "      <th>1</th>\n",
       "      <td>BBC</td>\n",
       "      <td>Dollar gains on Greenspan speech</td>\n",
       "      <td>The dollar has hit its highest level against ...</td>\n",
       "    </tr>\n",
       "    <tr>\n",
       "      <th>2</th>\n",
       "      <td>BBC</td>\n",
       "      <td>Yukos unit buyer faces loan claim</td>\n",
       "      <td>The owners of embattled Russian oil giant Yuk...</td>\n",
       "    </tr>\n",
       "    <tr>\n",
       "      <th>3</th>\n",
       "      <td>BBC</td>\n",
       "      <td>High fuel prices hit BA's profits</td>\n",
       "      <td>British Airways has blamed high fuel prices f...</td>\n",
       "    </tr>\n",
       "    <tr>\n",
       "      <th>4</th>\n",
       "      <td>BBC</td>\n",
       "      <td>Pernod takeover talk lifts Domecq</td>\n",
       "      <td>Shares in UK drinks and food firm Allied Dome...</td>\n",
       "    </tr>\n",
       "    <tr>\n",
       "      <th>...</th>\n",
       "      <td>...</td>\n",
       "      <td>...</td>\n",
       "      <td>...</td>\n",
       "    </tr>\n",
       "    <tr>\n",
       "      <th>19579</th>\n",
       "      <td>spaceNews</td>\n",
       "      <td>Kendall lays out Pentagon thinking on future s...</td>\n",
       "      <td>\\nFrank Kendall, the Pentagon’s top acquisitio...</td>\n",
       "    </tr>\n",
       "    <tr>\n",
       "      <th>19580</th>\n",
       "      <td>spaceNews</td>\n",
       "      <td>A larger share of NOAA’s declining space budge...</td>\n",
       "      <td>Updated Feb. 10 at 10:18 p.m. Eastern The U.S....</td>\n",
       "    </tr>\n",
       "    <tr>\n",
       "      <th>19581</th>\n",
       "      <td>spaceNews</td>\n",
       "      <td>Think Tank Turns Its Attention To Mars As 2016...</td>\n",
       "      <td>WASHINGTON — As NASA develops a long-term stra...</td>\n",
       "    </tr>\n",
       "    <tr>\n",
       "      <th>19582</th>\n",
       "      <td>spaceNews</td>\n",
       "      <td>House Bill Leaves Last Three JPSS Satellites i...</td>\n",
       "      <td>WASHINGTON — A spending bill the House passed ...</td>\n",
       "    </tr>\n",
       "    <tr>\n",
       "      <th>19583</th>\n",
       "      <td>spaceNews</td>\n",
       "      <td>Championing a Climate Change for Commercial We...</td>\n",
       "      <td>U.S. Rep. Jim Bridenstine (R-Okla.) is a growi...</td>\n",
       "    </tr>\n",
       "  </tbody>\n",
       "</table>\n",
       "<p>59686 rows × 3 columns</p>\n",
       "</div>"
      ],
      "text/plain": [
       "      dataSource                                              title  \\\n",
       "0            BBC                  Ad sales boost Time Warner profit   \n",
       "1            BBC                   Dollar gains on Greenspan speech   \n",
       "2            BBC                  Yukos unit buyer faces loan claim   \n",
       "3            BBC                  High fuel prices hit BA's profits   \n",
       "4            BBC                  Pernod takeover talk lifts Domecq   \n",
       "...          ...                                                ...   \n",
       "19579  spaceNews  Kendall lays out Pentagon thinking on future s...   \n",
       "19580  spaceNews  A larger share of NOAA’s declining space budge...   \n",
       "19581  spaceNews  Think Tank Turns Its Attention To Mars As 2016...   \n",
       "19582  spaceNews  House Bill Leaves Last Three JPSS Satellites i...   \n",
       "19583  spaceNews  Championing a Climate Change for Commercial We...   \n",
       "\n",
       "                                                 context  \n",
       "0       Quarterly profits at US media giant TimeWarne...  \n",
       "1       The dollar has hit its highest level against ...  \n",
       "2       The owners of embattled Russian oil giant Yuk...  \n",
       "3       British Airways has blamed high fuel prices f...  \n",
       "4       Shares in UK drinks and food firm Allied Dome...  \n",
       "...                                                  ...  \n",
       "19579  \\nFrank Kendall, the Pentagon’s top acquisitio...  \n",
       "19580  Updated Feb. 10 at 10:18 p.m. Eastern The U.S....  \n",
       "19581  WASHINGTON — As NASA develops a long-term stra...  \n",
       "19582  WASHINGTON — A spending bill the House passed ...  \n",
       "19583  U.S. Rep. Jim Bridenstine (R-Okla.) is a growi...  \n",
       "\n",
       "[59686 rows x 3 columns]"
      ]
     },
     "execution_count": 68,
     "metadata": {},
     "output_type": "execute_result"
    }
   ],
   "source": [
    "total_news_df"
   ]
  },
  {
   "cell_type": "code",
   "execution_count": 71,
   "metadata": {},
   "outputs": [],
   "source": [
    "engine.dispose()"
   ]
  },
  {
   "cell_type": "code",
   "execution_count": null,
   "metadata": {},
   "outputs": [],
   "source": []
  }
 ],
 "metadata": {
  "kernelspec": {
   "display_name": ".venv",
   "language": "python",
   "name": "python3"
  },
  "language_info": {
   "codemirror_mode": {
    "name": "ipython",
    "version": 3
   },
   "file_extension": ".py",
   "mimetype": "text/x-python",
   "name": "python",
   "nbconvert_exporter": "python",
   "pygments_lexer": "ipython3",
   "version": "3.10.0"
  }
 },
 "nbformat": 4,
 "nbformat_minor": 2
}
